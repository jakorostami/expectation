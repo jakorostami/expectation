{
 "cells": [
  {
   "cell_type": "code",
   "execution_count": 1,
   "metadata": {},
   "outputs": [
    {
     "data": {
      "text/plain": [
       "'d:\\\\my_py_packages\\\\expectation\\\\examples'"
      ]
     },
     "execution_count": 1,
     "metadata": {},
     "output_type": "execute_result"
    }
   ],
   "source": [
    "import os\n",
    "os.getcwd()"
   ]
  },
  {
   "cell_type": "code",
   "execution_count": 2,
   "metadata": {},
   "outputs": [],
   "source": [
    "from expectation.seqtest.sequential_e_testing import SequentialTest"
   ]
  },
  {
   "cell_type": "code",
   "execution_count": 3,
   "metadata": {},
   "outputs": [],
   "source": [
    "test = SequentialTest(test_type=\"mean\", null_value=0, alternative=\"greater\")"
   ]
  },
  {
   "cell_type": "code",
   "execution_count": 4,
   "metadata": {},
   "outputs": [],
   "source": [
    "result = test.update([1.2, 0.8, 1.5])"
   ]
  },
  {
   "cell_type": "code",
   "execution_count": 5,
   "metadata": {},
   "outputs": [
    {
     "data": {
      "text/plain": [
       "SequentialTestResult(reject_null=False, e_value=7.38905609893065, e_process=EProcess(values=[7.38905609893065], cumulative_value=7.38905609893065, total_samples=1, config=EValueConfig(significance_level=0.05, allow_infinite=False)), sample_size=3, p_value=0.1353352832366127, confidence_bounds=None, test_type=<TestType.MEAN: 'mean'>, alternative=<AlternativeType.GREATER: 'greater'>, timestamp=1731158571.0)"
      ]
     },
     "execution_count": 5,
     "metadata": {},
     "output_type": "execute_result"
    }
   ],
   "source": [
    "result"
   ]
  },
  {
   "cell_type": "code",
   "execution_count": 6,
   "metadata": {},
   "outputs": [
    {
     "name": "stdout",
     "output_type": "stream",
     "text": [
      "Reject null: False\n",
      "E-value: 7.38905609893065\n",
      "Cumulative e-value: 7.38905609893065\n"
     ]
    }
   ],
   "source": [
    "print(f\"Reject null: {result.reject_null}\")\n",
    "print(f\"E-value: {result.e_value}\")\n",
    "print(f\"Cumulative e-value: {result.e_process.cumulative_value}\")"
   ]
  }
 ],
 "metadata": {
  "kernelspec": {
   "display_name": "playground",
   "language": "python",
   "name": "python3"
  },
  "language_info": {
   "codemirror_mode": {
    "name": "ipython",
    "version": 3
   },
   "file_extension": ".py",
   "mimetype": "text/x-python",
   "name": "python",
   "nbconvert_exporter": "python",
   "pygments_lexer": "ipython3",
   "version": "3.11.9"
  }
 },
 "nbformat": 4,
 "nbformat_minor": 2
}
