{
 "cells": [
  {
   "cell_type": "markdown",
   "metadata": {},
   "source": [
    "# Safe Anytime Valid Inference\n",
    "\n",
    "This implementation demonstrates the key concepts from both examples in the paper: <br>\n",
    "Safe Anytime-Valid Inference: Practical Maximally Flexible Sampling Designs for Experiments Based on e-Values (2024) <br>\n",
    "Authors: Alexander Ly, Udo Boehm, Peter Grünwald, Aaditya Ramdas, and Don van Ravenzwaij\n",
    "\n",
    "Example 1 (Moral Typecasting) shows how e-values allow for early stopping while maintaining proper type I error control. The test can reject the null hypothesis earlier than a classical test would allow, potentially saving resources.\n",
    "Example 2 (Macbeth Effect) demonstrates how e-values can help determine the absence of effects. The analysis runs to completion to show how e-values provide evidence against the original finding."
   ]
  },
  {
   "cell_type": "code",
   "execution_count": 7,
   "metadata": {},
   "outputs": [],
   "source": [
    "import numpy as np\n",
    "import os\n",
    "os.chdir(\"/home/jako/private_repo/expectation/\")\n",
    "\n",
    "from expectation.modules.hypothesistesting import EValueConfig\n",
    "from expectation.seqtest.sequential_e_testing import SequentialTest, TestType\n",
    "from expectation.utils.helper_functions import plot_sequential_test_plotly, plot_combined_dashboard, plot_sequential_comparison_plotly"
   ]
  },
  {
   "cell_type": "markdown",
   "metadata": {},
   "source": [
    "### Example 1: Moral typecasting (Gray & Wegner, 2009, Study 1a)\n",
    "    \n",
    "Demonstrates how e-values allow early stopping while maintaining type I error control. <br>\n",
    "Original study found adults were perceived as more responsible than babies for harmful actions.\n"
   ]
  },
  {
   "cell_type": "code",
   "execution_count": 8,
   "metadata": {},
   "outputs": [],
   "source": [
    "# Configure test based on original study parameters\n",
    "config = EValueConfig(significance_level=0.05, allow_infinite=False)\n",
    "\n",
    "# Create test object - one-sided since hypothesis predicts direction\n",
    "test = SequentialTest(\n",
    "    test_type=\"mean\",\n",
    "    null_value=0,\n",
    "    alternative=\"greater\", \n",
    "    config=config\n",
    ")"
   ]
  },
  {
   "cell_type": "code",
   "execution_count": 9,
   "metadata": {},
   "outputs": [],
   "source": [
    "# Generate example data similar to Carleton University replication\n",
    "np.random.seed(42)\n",
    "adult_ratings = np.random.normal(5.29, 1.86, size=66)  # Adult condition\n",
    "baby_ratings = np.random.normal(3.86, 1.64, size=55)   # Baby condition\n",
    "\n",
    "batch_size = 1"
   ]
  },
  {
   "cell_type": "code",
   "execution_count": 10,
   "metadata": {},
   "outputs": [
    {
     "name": "stdout",
     "output_type": "stream",
     "text": [
      "\n",
      "Batch 1:\n",
      "E-value: 10.22\n",
      "Cumulative e-value: 10.22\n",
      "Reject null: False\n",
      "\n",
      "Batch 2:\n",
      "E-value: 0.27\n",
      "Cumulative e-value: 2.75\n",
      "Reject null: False\n",
      "\n",
      "Batch 3:\n",
      "E-value: 4.34\n",
      "Cumulative e-value: 11.92\n",
      "Reject null: False\n",
      "\n",
      "Batch 4:\n",
      "E-value: 150447.89\n",
      "Cumulative e-value: 1793086.64\n",
      "Reject null: True\n",
      "\n",
      "Batch 5:\n",
      "E-value: 0.51\n",
      "Cumulative e-value: 916903.00\n",
      "Reject null: True\n",
      "\n",
      "Batch 6:\n",
      "E-value: 0.16\n",
      "Cumulative e-value: 144453.42\n",
      "Reject null: True\n",
      "\n",
      "Batch 7:\n",
      "E-value: 3483.67\n",
      "Cumulative e-value: 503227402.69\n",
      "Reject null: True\n",
      "\n",
      "Batch 8:\n",
      "E-value: 0.46\n",
      "Cumulative e-value: 233988741.29\n",
      "Reject null: True\n",
      "\n",
      "Batch 9:\n",
      "E-value: 19282.16\n",
      "Cumulative e-value: 4511808622490.33\n",
      "Reject null: True\n",
      "\n",
      "Batch 10:\n",
      "E-value: 1.04\n",
      "Cumulative e-value: 4708422660557.13\n",
      "Reject null: True\n",
      "\n",
      "Batch 11:\n",
      "E-value: 0.52\n",
      "Cumulative e-value: 2458397097385.93\n",
      "Reject null: True\n",
      "\n",
      "Batch 12:\n",
      "E-value: 1.00\n",
      "Cumulative e-value: 2454221204744.24\n",
      "Reject null: True\n",
      "\n",
      "Batch 13:\n",
      "E-value: 2.54\n",
      "Cumulative e-value: 6241016664260.08\n",
      "Reject null: True\n",
      "\n",
      "Batch 14:\n",
      "E-value: 1.10\n",
      "Cumulative e-value: 6834788012978.66\n",
      "Reject null: True\n",
      "\n",
      "Batch 15:\n",
      "E-value: 0.17\n",
      "Cumulative e-value: 1128419192743.31\n",
      "Reject null: True\n",
      "\n",
      "Batch 16:\n",
      "E-value: 0.32\n",
      "Cumulative e-value: 361182890745.98\n",
      "Reject null: True\n",
      "\n",
      "Batch 17:\n",
      "E-value: 0.10\n",
      "Cumulative e-value: 35698079578.05\n",
      "Reject null: True\n",
      "\n",
      "Batch 18:\n",
      "E-value: 25.44\n",
      "Cumulative e-value: 907989138068.65\n",
      "Reject null: True\n",
      "\n",
      "Batch 19:\n",
      "E-value: 1.01\n",
      "Cumulative e-value: 920435678790.07\n",
      "Reject null: True\n",
      "\n",
      "Batch 20:\n",
      "E-value: 0.29\n",
      "Cumulative e-value: 262991482347.09\n",
      "Reject null: True\n",
      "\n",
      "Batch 21:\n",
      "E-value: 15.39\n",
      "Cumulative e-value: 4047190443909.61\n",
      "Reject null: True\n",
      "\n",
      "Batch 22:\n",
      "E-value: 0.54\n",
      "Cumulative e-value: 2201805183107.04\n",
      "Reject null: True\n",
      "\n",
      "Batch 23:\n",
      "E-value: 9.23\n",
      "Cumulative e-value: 20331842310573.92\n",
      "Reject null: True\n",
      "\n",
      "Batch 24:\n",
      "E-value: 0.13\n",
      "Cumulative e-value: 2606507859645.90\n",
      "Reject null: True\n",
      "\n",
      "Batch 25:\n",
      "E-value: 0.45\n",
      "Cumulative e-value: 1178870320161.08\n",
      "Reject null: True\n",
      "\n",
      "Batch 26:\n",
      "E-value: 0.38\n",
      "Cumulative e-value: 451311789131.01\n",
      "Reject null: True\n",
      "\n",
      "Batch 27:\n",
      "E-value: 0.53\n",
      "Cumulative e-value: 238876364938.30\n",
      "Reject null: True\n",
      "\n",
      "Batch 28:\n",
      "E-value: 15.80\n",
      "Cumulative e-value: 3773665682821.78\n",
      "Reject null: True\n",
      "\n",
      "Batch 29:\n",
      "E-value: 0.89\n",
      "Cumulative e-value: 3361958447335.50\n",
      "Reject null: True\n",
      "\n",
      "Batch 30:\n",
      "E-value: 78.49\n",
      "Cumulative e-value: 263868805487267.38\n",
      "Reject null: True\n",
      "\n",
      "Batch 31:\n",
      "E-value: 0.33\n",
      "Cumulative e-value: 86019110298012.14\n",
      "Reject null: True\n",
      "\n",
      "Batch 32:\n",
      "E-value: 3775.77\n",
      "Cumulative e-value: 324788550766390144.00\n",
      "Reject null: True\n",
      "\n",
      "Batch 33:\n",
      "E-value: 1.55\n",
      "Cumulative e-value: 502822638541623424.00\n",
      "Reject null: True\n",
      "\n",
      "Batch 34:\n",
      "E-value: 0.33\n",
      "Cumulative e-value: 166454172906984832.00\n",
      "Reject null: True\n",
      "\n",
      "Batch 35:\n",
      "E-value: 125452.44\n",
      "Cumulative e-value: 20882082188552887599104.00\n",
      "Reject null: True\n",
      "\n",
      "Batch 36:\n",
      "E-value: 0.33\n",
      "Cumulative e-value: 6921017722933207891968.00\n",
      "Reject null: True\n",
      "\n",
      "Batch 37:\n",
      "E-value: 8.42\n",
      "Cumulative e-value: 58270289641835570659328.00\n",
      "Reject null: True\n",
      "\n",
      "Batch 38:\n",
      "E-value: 0.21\n",
      "Cumulative e-value: 12309733534311758430208.00\n",
      "Reject null: True\n",
      "\n",
      "Batch 39:\n",
      "E-value: 0.23\n",
      "Cumulative e-value: 2776767284610096693248.00\n",
      "Reject null: True\n",
      "\n",
      "Batch 40:\n",
      "E-value: 1.10\n",
      "Cumulative e-value: 3050694621891919872000.00\n",
      "Reject null: True\n",
      "\n",
      "Batch 41:\n",
      "E-value: 0.30\n",
      "Cumulative e-value: 920424968845053657088.00\n",
      "Reject null: True\n",
      "\n",
      "Batch 42:\n",
      "E-value: 1.70\n",
      "Cumulative e-value: 1563097671719553859584.00\n",
      "Reject null: True\n",
      "\n",
      "Batch 43:\n",
      "E-value: 0.75\n",
      "Cumulative e-value: 1165077950705914609664.00\n",
      "Reject null: True\n",
      "\n",
      "Batch 44:\n",
      "E-value: 0.93\n",
      "Cumulative e-value: 1081748203742504550400.00\n",
      "Reject null: True\n",
      "\n",
      "Batch 45:\n",
      "E-value: 2.98\n",
      "Cumulative e-value: 3224582734293520351232.00\n",
      "Reject null: True\n",
      "\n",
      "Batch 46:\n",
      "E-value: 0.41\n",
      "Cumulative e-value: 1319940494393458294784.00\n",
      "Reject null: True\n",
      "\n",
      "Batch 47:\n",
      "E-value: 0.55\n",
      "Cumulative e-value: 720403713331517194240.00\n",
      "Reject null: True\n",
      "\n",
      "Batch 48:\n",
      "E-value: 0.24\n",
      "Cumulative e-value: 174967443147802214400.00\n",
      "Reject null: True\n",
      "\n",
      "Batch 49:\n",
      "E-value: 8.49\n",
      "Cumulative e-value: 1485671996628543733760.00\n",
      "Reject null: True\n",
      "\n",
      "Batch 50:\n",
      "E-value: 0.12\n",
      "Cumulative e-value: 172947651300262051840.00\n",
      "Reject null: True\n",
      "\n",
      "Batch 51:\n",
      "E-value: 4.74\n",
      "Cumulative e-value: 820038734373618974720.00\n",
      "Reject null: True\n",
      "\n",
      "Batch 52:\n",
      "E-value: 14.55\n",
      "Cumulative e-value: 11928939314665515646976.00\n",
      "Reject null: True\n",
      "\n",
      "Batch 53:\n",
      "E-value: 0.15\n",
      "Cumulative e-value: 1749667640118590570496.00\n",
      "Reject null: True\n",
      "\n",
      "Batch 54:\n",
      "E-value: 1.42\n",
      "Cumulative e-value: 2489254948836147724288.00\n",
      "Reject null: True\n",
      "\n",
      "Batch 55:\n",
      "E-value: 4.41\n",
      "Cumulative e-value: 10975152833837054033920.00\n",
      "Reject null: True\n"
     ]
    }
   ],
   "source": [
    "for i in range(0, len(adult_ratings), batch_size):\n",
    "    adult_batch = adult_ratings[i:i+batch_size]\n",
    "    baby_batch = baby_ratings[i:i+batch_size]\n",
    "    \n",
    "    # Skip if unequal batch sizes at end\n",
    "    if len(adult_batch) != len(baby_batch):\n",
    "        continue\n",
    "        \n",
    "    result = test.update(adult_batch - baby_batch)  # Test difference scores\n",
    "    \n",
    "    print(f\"\\nBatch {i//batch_size + 1}:\")\n",
    "    print(f\"E-value: {result.e_value:.2f}\")\n",
    "    print(f\"Cumulative e-value: {result.e_process.cumulative_value:.2f}\")\n",
    "    print(f\"Reject null: {result.reject_null}\")\n",
    "    \n",
    "    # Stop early if we reject null hypothesis\n",
    "    # Uncomment to use\n",
    "    # if result.reject_null:\n",
    "    #     print(\"\\nStopping early - sufficient evidence to reject null\")\n",
    "    #     print(f\"Total samples analyzed: {result.sample_size}\")\n",
    "    #     break"
   ]
  },
  {
   "cell_type": "code",
   "execution_count": 11,
   "metadata": {},
   "outputs": [
    {
     "data": {
      "application/vnd.plotly.v1+json": {
       "config": {
        "plotlyServerURL": "https://plot.ly"
       },
       "data": [
        {
         "hovertemplate": "<b>Step %{x}</b><br>%{y:.4f}<extra></extra>",
         "line": {
          "color": "#0A84FF",
          "shape": "spline",
          "width": 2
         },
         "marker": {
          "color": "#0A84FF",
          "line": {
           "color": "white",
           "width": 1
          },
          "opacity": 0.8,
          "size": 8
         },
         "mode": "lines+markers",
         "name": "E-value",
         "type": "scatter",
         "x": {
          "bdata": "AQIDBAUGBwgJCgsMDQ4PEBESExQVFhcYGRobHB0eHyAhIiMkJSYnKCkqKywtLi8wMTIzNDU2Nw==",
          "dtype": "i1"
         },
         "xaxis": "x",
         "y": {
          "bdata": "2LpwtDFzJECzHQJ/UDHRP9QtE2kjWxFALM+pI39dAkE1iMA0BF3gP1xWP6ZuKsQ/v9zDyFQ3q0AiL5FVK8LdP274rlCK1NJAPvuZe36y8D/mVZrLRLXgP3CeHLoV8u8/TWws4wFYBEA080uxsYXxP6Qcp+T5IcU/MittKCt81D8Zfs2NWk25P80kO7xrbzlA1TmtrSU48D+Ts1uAUUnSPzwL4j4yxy5AhKUY6Ldo4T+cQjsR5XciQFoeQWLNaMA/+Fi4HSby3D96VCW1WoDYP6MIkMb47+A/fkY63lqYL0BFZXiLQILsPwxNDwcln1NAiGWuZg3d1D8goppHi3+tQFXVF/M8xfg/1Cwac8Av1T9qT3MLx6D+QGqVIhQ0NtU/UernnbHWIEAEXUnaUArLP/dtUqqj38w/6Le2vBGU8T8V1JNQN0/TPwuv7TT4K/s/6ryyPAfa5z9li5SeFbbtP+aSEN3h2AdAB+AWIZMy2j9o1eEWEnfhP025bBSAFs8/fgO56HX7IECNa9EyEs29P8XI0g9X9xJAwRhsJfYXLUDMk8FfOMbCP7PuZ8Biw/Y/ZHjj0dOiEUA=",
          "dtype": "f8"
         },
         "yaxis": "y"
        },
        {
         "hoverinfo": "skip",
         "line": {
          "color": "#98989D",
          "dash": "dash",
          "width": 1
         },
         "mode": "lines",
         "name": "E-value = 1",
         "showlegend": false,
         "type": "scatter",
         "x": [
          1,
          55
         ],
         "xaxis": "x",
         "y": [
          1,
          1
         ],
         "yaxis": "y"
        },
        {
         "hovertemplate": "<b>Step %{x}</b><br>%{y:.4f}<extra></extra>",
         "line": {
          "color": "#30D158",
          "shape": "spline",
          "width": 2
         },
         "marker": {
          "color": "#30D158",
          "line": {
           "color": "white",
           "width": 1
          },
          "opacity": 0.8,
          "size": 8
         },
         "mode": "lines+markers",
         "name": "Cumulative E-value",
         "type": "scatter",
         "x": {
          "bdata": "AQIDBAUGBwgJCgsMDQ4PEBESExQVFhcYGRobHB0eHyAhIiMkJSYnKCkqKywtLi8wMTIzNDU2Nw==",
          "dtype": "i1"
         },
         "xaxis": "x2",
         "y": {
          "bdata": "2LpwtDFzJEDZ9D16bPkFQPKOxXwu1idAIPzFoz5cO0FKmyIBTvsrQUxJUlgrogFBxf+wCqT+vUH5IJIKxeSrQVNpPgDzaZBChTTHcA8hkUJnT+0VH+OBQvNBaN1X24FCVhBDU2a0lkKfyk5yZN2YQgJ1+mawa3BCBn++YgsGVUISF7Tuip8gQsKUUtcLbWpCVsLIu8fJakJmi/XGwZ1OQuQsPMp6co1CWRjEhi4FgELsrRE94H2yQjLv9cz/9oJCXBHCWKIncUKfwBLZEUVaQgwmRQgSz0tCPy4sBQB1i0IGPEe2InaIQmxUY82X/+1CCWfYoPiO00KuLU7dhQeSQ0IxTRqK6ZtDrAS8gel6gkMa5yFsFLCRRAwmXqUGc3dE+gsobq2tqERxi631ftqERNoYrWPs0GJE0M9qkBysZES0pEUwu/JIRAoVsp4VL1VEDuWoL1qUT0RvZPrRIlJNROOWCGbC2WVE5JuTqXbjUUS2zjQQzoZDRDYmDXVS+CJEbGNgznUiVER9VBX5QsAiRDyoFGopOkZELqwDT1o1hEQmSiMKYbZXRDiDakMr3mBE+y7MvLaXgkQ=",
          "dtype": "f8"
         },
         "yaxis": "y2"
        },
        {
         "hoverinfo": "skip",
         "line": {
          "color": "#FF453A",
          "dash": "dash",
          "width": 2
         },
         "mode": "lines",
         "name": "Rejection Boundary (1/α = 20.0)",
         "type": "scatter",
         "x": [
          1,
          55
         ],
         "xaxis": "x2",
         "y": [
          20,
          20
         ],
         "yaxis": "y2"
        },
        {
         "hovertemplate": "<b>Step %{x}</b><br>%{y:.2f}%<extra></extra>",
         "line": {
          "color": "#FF9F0A",
          "shape": "spline",
          "width": 2
         },
         "marker": {
          "color": "#FF9F0A",
          "line": {
           "color": "white",
           "width": 1
          },
          "opacity": 0.8,
          "size": 8
         },
         "mode": "lines+markers",
         "name": "E-power",
         "type": "scatter",
         "x": {
          "bdata": "AQIDBAUGBwgJCgsMDQ4PEBESExQVFhcYGRobHB0eHyAhIiMkJSYnKCkqKywtLi8wMTIzNDU2Nw==",
          "dtype": "i1"
         },
         "xaxis": "x3",
         "y": {
          "bdata": "AAAAAAAAAAAMk9+4xEJJQDUEqHOQplRAQEvElcd/dkDbN1bFMylxQAPLFkNhwGhAhSINksjjcUAAuYA8UBxuQGY2B/oJPHRA3yFGH9w8ckAQyvM25TVwQNbdOiuwt21AFAQDnDlUbEBE6ydp+2JqQD0bomxkIGdARhDgsYfKZEC2X3U4z91hQMNhAJwFH2NAhrmDo64fYkCpgT4SQ29gQCzMQS95R2FAPbyCk9wlYEBN6bctZ6dgQNrj8/K9x11ArvOW+6rLW0AjXNmUpM1ZQJN0t/4uQlhATdVvLTfbWUDLV/nReN1YQN/x0C8MrFtA/kXUNh/gWUAxH+fgY4BfQBBDqUjH4F5AFaMhBDAoXUBm9PUMzlpiQKYJDLcedmFAbs+BZJG1YUBppZ9bV7tgQCFKBIqopl9AZrvZHiXrXkDHgfzsCm9dQFeY/xJWDF1ARELYXKgzXEDSE6fJx4RbQELqgISRg1tA0oPgeCxuWkAHcEjlwYtZQMKsqUrRRlhAV+Jv+F3fWEByVIsXvUxXQLKa8FoXm1dA08LjiGZwWEAFmHrBjxJXQAauMyP3zlZAtmllAXIRV0A=",
          "dtype": "f8"
         },
         "yaxis": "y3"
        },
        {
         "hovertemplate": "<b>Step %{x}</b><br>%{y:.2f}%<extra></extra>",
         "line": {
          "color": "#BF5AF2",
          "shape": "spline",
          "width": 2
         },
         "marker": {
          "color": "#BF5AF2",
          "line": {
           "color": "white",
           "width": 1
          },
          "opacity": 0.8,
          "size": 8
         },
         "mode": "lines+markers",
         "name": "p-value",
         "type": "scatter",
         "x": {
          "bdata": "AQIDBAUGBwgJCgsMDQ4PEBESExQVFhcYGRobHB0eHyAhIiMkJSYnKCkqKywtLi8wMTIzNDU2Nw==",
          "dtype": "i1"
         },
         "xaxis": "x4",
         "y": {
          "bdata": "ibdBLlePI0BWNZGa/DNCQFRTmv/nxyBAcBoXJEo9DT91SA95FJccP6TtVxcjr0Y/AyeDBOCrij7YP8V9La6cPo8cpuKgXrg938i3vR1atz2d3LYrxFzGPZhc9M6BZsY9O/LYBRWesT05JRbxRBawPTflT98LXNg97adP0LYG8z0LX+N0DxAoPoCgtFP0Rd49/rBG9Cfd3T1Iy4HBQiH6PX+cxvjSKrs9lnzX6+n3yD2i8LtknqGVPV18PiB3F8U97p4q4ipR1z3L7dj0BXTuPcAaQJeOxPw9qggfXu0ivT3ThTb8LFrAPViHsEoHq1o9F9kokZRzdD0tcgXSnS+2PJtu0tNGqaw82x66gBalxTyMMKEbTJ22O2zcYUXdDtE7qHr7eV81oDtrSfZdci7DO8/s7VolQuU726zgYnxZ4zvJ2tB5gggAPGmJLrLa4fI7lCFVODhV+TscYP/Kykj7O5XTlIZdTuI7xHADsVZc9juLyZEnInwEPBhl2Jf+FSU8oBIOLMXd8zt5BxojCVUlPAuwBx34/gE8suynjDLLwztO88iQad7wO+9pYZ+4tuc7+jg42o6DxTs=",
          "dtype": "f8"
         },
         "yaxis": "y4"
        },
        {
         "hoverinfo": "skip",
         "line": {
          "color": "#FF453A",
          "dash": "dash",
          "width": 2
         },
         "mode": "lines",
         "name": "Rejection Boundary (α = 0.05)",
         "type": "scatter",
         "x": [
          1,
          55
         ],
         "xaxis": "x4",
         "y": [
          5,
          5
         ],
         "yaxis": "y4"
        },
        {
         "hovertemplate": "<b>Step %{x}</b><br>Value: %{y:.4f}<extra></extra>",
         "marker": {
          "color": "#FF375F",
          "line": {
           "color": "white",
           "width": 1
          },
          "opacity": 0.8,
          "size": 10,
          "symbol": "circle"
         },
         "mode": "markers",
         "name": "Observations",
         "type": "scatter",
         "x": {
          "bdata": "AQIDBAUGBwgJCgsMDQ4PEBESExQVFhcYGRobHB0eHyAhIiMkJSYnKCkqKywtLi8wMTIzNDU2Nw==",
          "dtype": "i1"
         },
         "xaxis": "x5",
         "y": {
          "bdata": "CQcmCKDGA0BApkRPEUXev4xCsJs7VQBAM4xjKohIFUCAq1BV3LbZP5zQM8Ascvi/ZqUqFFG0EUCgyOW2gqbSP7IlbqyiaRNA3Jl+ubl18T8w32dZ4jfbPxaOsWOn3fA/oPjXXEms+z9IRk3vNhjyP67Hvy56sPa/YArJbmPLyb+Gg2+AWQUHwJ7NL65r6gZA8uvJjHMS8T+wfvasq+/Xv+zqW4wgPQVAkEdooEsj3j+ppuGlMGUDQIw9ft6LfgDAoHQ+DgWH0D+AqrxFJXGoP0jO/a92Mdw/xAYJ6k1UBUCA/sNwe5buP3xfdKQITQpAoG3Vlzlgxr8+5+Bb1skRQOx4NusZWPY/kH1okAiJw79f4UaS4x8VQFDvUQsMUcO/pHZejlcLA0DQJhKFq8bsv9ivLOdQ1Oi/oLKySeQi8j9wKXThCIzSvxTXpb8kZvc/SHTAMEFc6T9sopxfx77vP1DrBVFNOv0/kPucL6w5wT/IA3DbIV3eP1BwadFNl+S/tZ28NqoTA0D8h30xFsACwDx/W/LAtwBAOEcfHQQLBUD0wj0MvED7v2Cav7ZOWvU/GLWMqiZnAEA=",
          "dtype": "f8"
         },
         "yaxis": "y5"
        }
       ],
       "layout": {
        "annotations": [
         {
          "font": {
           "size": 16
          },
          "showarrow": false,
          "text": "Individual E-values",
          "x": 0.5,
          "xanchor": "center",
          "xref": "paper",
          "y": 0.9999999999999999,
          "yanchor": "bottom",
          "yref": "paper"
         },
         {
          "font": {
           "size": 16
          },
          "showarrow": false,
          "text": "Cumulative E-values (E-Process)",
          "x": 0.5,
          "xanchor": "center",
          "xref": "paper",
          "y": 0.7839999999999999,
          "yanchor": "bottom",
          "yref": "paper"
         },
         {
          "font": {
           "size": 16
          },
          "showarrow": false,
          "text": "E-power (growth rate)",
          "x": 0.5,
          "xanchor": "center",
          "xref": "paper",
          "y": 0.568,
          "yanchor": "bottom",
          "yref": "paper"
         },
         {
          "font": {
           "size": 16
          },
          "showarrow": false,
          "text": "p-values (converted from e-values)",
          "x": 0.5,
          "xanchor": "center",
          "xref": "paper",
          "y": 0.352,
          "yanchor": "bottom",
          "yref": "paper"
         },
         {
          "font": {
           "size": 16
          },
          "showarrow": false,
          "text": "Raw Observations",
          "x": 0.5,
          "xanchor": "center",
          "xref": "paper",
          "y": 0.13599999999999998,
          "yanchor": "bottom",
          "yref": "paper"
         }
        ],
        "font": {
         "color": "#FFFFFF",
         "family": "SF Pro Display, -apple-system, BlinkMacSystemFont, Segoe UI, Roboto, Helvetica Neue, Arial, sans-serif"
        },
        "height": 1200,
        "hoverlabel": {
         "bgcolor": "white",
         "font": {
          "family": "SF Pro Display, -apple-system, BlinkMacSystemFont, Segoe UI, Roboto, Helvetica Neue, Arial, sans-serif",
          "size": 12
         }
        },
        "hovermode": "closest",
        "legend": {
         "bgcolor": "rgba(40, 40, 45, 0.85)",
         "font": {
          "color": "#FFFFFF"
         },
         "orientation": "h",
         "x": 1,
         "xanchor": "right",
         "y": 1.02,
         "yanchor": "bottom"
        },
        "paper_bgcolor": "#000000",
        "plot_bgcolor": "#1C1C1E",
        "showlegend": true,
        "template": {
         "data": {
          "bar": [
           {
            "error_x": {
             "color": "#2a3f5f"
            },
            "error_y": {
             "color": "#2a3f5f"
            },
            "marker": {
             "line": {
              "color": "white",
              "width": 0.5
             },
             "pattern": {
              "fillmode": "overlay",
              "size": 10,
              "solidity": 0.2
             }
            },
            "type": "bar"
           }
          ],
          "barpolar": [
           {
            "marker": {
             "line": {
              "color": "white",
              "width": 0.5
             },
             "pattern": {
              "fillmode": "overlay",
              "size": 10,
              "solidity": 0.2
             }
            },
            "type": "barpolar"
           }
          ],
          "carpet": [
           {
            "aaxis": {
             "endlinecolor": "#2a3f5f",
             "gridcolor": "#C8D4E3",
             "linecolor": "#C8D4E3",
             "minorgridcolor": "#C8D4E3",
             "startlinecolor": "#2a3f5f"
            },
            "baxis": {
             "endlinecolor": "#2a3f5f",
             "gridcolor": "#C8D4E3",
             "linecolor": "#C8D4E3",
             "minorgridcolor": "#C8D4E3",
             "startlinecolor": "#2a3f5f"
            },
            "type": "carpet"
           }
          ],
          "choropleth": [
           {
            "colorbar": {
             "outlinewidth": 0,
             "ticks": ""
            },
            "type": "choropleth"
           }
          ],
          "contour": [
           {
            "colorbar": {
             "outlinewidth": 0,
             "ticks": ""
            },
            "colorscale": [
             [
              0,
              "#0d0887"
             ],
             [
              0.1111111111111111,
              "#46039f"
             ],
             [
              0.2222222222222222,
              "#7201a8"
             ],
             [
              0.3333333333333333,
              "#9c179e"
             ],
             [
              0.4444444444444444,
              "#bd3786"
             ],
             [
              0.5555555555555556,
              "#d8576b"
             ],
             [
              0.6666666666666666,
              "#ed7953"
             ],
             [
              0.7777777777777778,
              "#fb9f3a"
             ],
             [
              0.8888888888888888,
              "#fdca26"
             ],
             [
              1,
              "#f0f921"
             ]
            ],
            "type": "contour"
           }
          ],
          "contourcarpet": [
           {
            "colorbar": {
             "outlinewidth": 0,
             "ticks": ""
            },
            "type": "contourcarpet"
           }
          ],
          "heatmap": [
           {
            "colorbar": {
             "outlinewidth": 0,
             "ticks": ""
            },
            "colorscale": [
             [
              0,
              "#0d0887"
             ],
             [
              0.1111111111111111,
              "#46039f"
             ],
             [
              0.2222222222222222,
              "#7201a8"
             ],
             [
              0.3333333333333333,
              "#9c179e"
             ],
             [
              0.4444444444444444,
              "#bd3786"
             ],
             [
              0.5555555555555556,
              "#d8576b"
             ],
             [
              0.6666666666666666,
              "#ed7953"
             ],
             [
              0.7777777777777778,
              "#fb9f3a"
             ],
             [
              0.8888888888888888,
              "#fdca26"
             ],
             [
              1,
              "#f0f921"
             ]
            ],
            "type": "heatmap"
           }
          ],
          "histogram": [
           {
            "marker": {
             "pattern": {
              "fillmode": "overlay",
              "size": 10,
              "solidity": 0.2
             }
            },
            "type": "histogram"
           }
          ],
          "histogram2d": [
           {
            "colorbar": {
             "outlinewidth": 0,
             "ticks": ""
            },
            "colorscale": [
             [
              0,
              "#0d0887"
             ],
             [
              0.1111111111111111,
              "#46039f"
             ],
             [
              0.2222222222222222,
              "#7201a8"
             ],
             [
              0.3333333333333333,
              "#9c179e"
             ],
             [
              0.4444444444444444,
              "#bd3786"
             ],
             [
              0.5555555555555556,
              "#d8576b"
             ],
             [
              0.6666666666666666,
              "#ed7953"
             ],
             [
              0.7777777777777778,
              "#fb9f3a"
             ],
             [
              0.8888888888888888,
              "#fdca26"
             ],
             [
              1,
              "#f0f921"
             ]
            ],
            "type": "histogram2d"
           }
          ],
          "histogram2dcontour": [
           {
            "colorbar": {
             "outlinewidth": 0,
             "ticks": ""
            },
            "colorscale": [
             [
              0,
              "#0d0887"
             ],
             [
              0.1111111111111111,
              "#46039f"
             ],
             [
              0.2222222222222222,
              "#7201a8"
             ],
             [
              0.3333333333333333,
              "#9c179e"
             ],
             [
              0.4444444444444444,
              "#bd3786"
             ],
             [
              0.5555555555555556,
              "#d8576b"
             ],
             [
              0.6666666666666666,
              "#ed7953"
             ],
             [
              0.7777777777777778,
              "#fb9f3a"
             ],
             [
              0.8888888888888888,
              "#fdca26"
             ],
             [
              1,
              "#f0f921"
             ]
            ],
            "type": "histogram2dcontour"
           }
          ],
          "mesh3d": [
           {
            "colorbar": {
             "outlinewidth": 0,
             "ticks": ""
            },
            "type": "mesh3d"
           }
          ],
          "parcoords": [
           {
            "line": {
             "colorbar": {
              "outlinewidth": 0,
              "ticks": ""
             }
            },
            "type": "parcoords"
           }
          ],
          "pie": [
           {
            "automargin": true,
            "type": "pie"
           }
          ],
          "scatter": [
           {
            "fillpattern": {
             "fillmode": "overlay",
             "size": 10,
             "solidity": 0.2
            },
            "type": "scatter"
           }
          ],
          "scatter3d": [
           {
            "line": {
             "colorbar": {
              "outlinewidth": 0,
              "ticks": ""
             }
            },
            "marker": {
             "colorbar": {
              "outlinewidth": 0,
              "ticks": ""
             }
            },
            "type": "scatter3d"
           }
          ],
          "scattercarpet": [
           {
            "marker": {
             "colorbar": {
              "outlinewidth": 0,
              "ticks": ""
             }
            },
            "type": "scattercarpet"
           }
          ],
          "scattergeo": [
           {
            "marker": {
             "colorbar": {
              "outlinewidth": 0,
              "ticks": ""
             }
            },
            "type": "scattergeo"
           }
          ],
          "scattergl": [
           {
            "marker": {
             "colorbar": {
              "outlinewidth": 0,
              "ticks": ""
             }
            },
            "type": "scattergl"
           }
          ],
          "scattermap": [
           {
            "marker": {
             "colorbar": {
              "outlinewidth": 0,
              "ticks": ""
             }
            },
            "type": "scattermap"
           }
          ],
          "scattermapbox": [
           {
            "marker": {
             "colorbar": {
              "outlinewidth": 0,
              "ticks": ""
             }
            },
            "type": "scattermapbox"
           }
          ],
          "scatterpolar": [
           {
            "marker": {
             "colorbar": {
              "outlinewidth": 0,
              "ticks": ""
             }
            },
            "type": "scatterpolar"
           }
          ],
          "scatterpolargl": [
           {
            "marker": {
             "colorbar": {
              "outlinewidth": 0,
              "ticks": ""
             }
            },
            "type": "scatterpolargl"
           }
          ],
          "scatterternary": [
           {
            "marker": {
             "colorbar": {
              "outlinewidth": 0,
              "ticks": ""
             }
            },
            "type": "scatterternary"
           }
          ],
          "surface": [
           {
            "colorbar": {
             "outlinewidth": 0,
             "ticks": ""
            },
            "colorscale": [
             [
              0,
              "#0d0887"
             ],
             [
              0.1111111111111111,
              "#46039f"
             ],
             [
              0.2222222222222222,
              "#7201a8"
             ],
             [
              0.3333333333333333,
              "#9c179e"
             ],
             [
              0.4444444444444444,
              "#bd3786"
             ],
             [
              0.5555555555555556,
              "#d8576b"
             ],
             [
              0.6666666666666666,
              "#ed7953"
             ],
             [
              0.7777777777777778,
              "#fb9f3a"
             ],
             [
              0.8888888888888888,
              "#fdca26"
             ],
             [
              1,
              "#f0f921"
             ]
            ],
            "type": "surface"
           }
          ],
          "table": [
           {
            "cells": {
             "fill": {
              "color": "#EBF0F8"
             },
             "line": {
              "color": "white"
             }
            },
            "header": {
             "fill": {
              "color": "#C8D4E3"
             },
             "line": {
              "color": "white"
             }
            },
            "type": "table"
           }
          ]
         },
         "layout": {
          "annotationdefaults": {
           "arrowcolor": "#2a3f5f",
           "arrowhead": 0,
           "arrowwidth": 1
          },
          "autotypenumbers": "strict",
          "coloraxis": {
           "colorbar": {
            "outlinewidth": 0,
            "ticks": ""
           }
          },
          "colorscale": {
           "diverging": [
            [
             0,
             "#8e0152"
            ],
            [
             0.1,
             "#c51b7d"
            ],
            [
             0.2,
             "#de77ae"
            ],
            [
             0.3,
             "#f1b6da"
            ],
            [
             0.4,
             "#fde0ef"
            ],
            [
             0.5,
             "#f7f7f7"
            ],
            [
             0.6,
             "#e6f5d0"
            ],
            [
             0.7,
             "#b8e186"
            ],
            [
             0.8,
             "#7fbc41"
            ],
            [
             0.9,
             "#4d9221"
            ],
            [
             1,
             "#276419"
            ]
           ],
           "sequential": [
            [
             0,
             "#0d0887"
            ],
            [
             0.1111111111111111,
             "#46039f"
            ],
            [
             0.2222222222222222,
             "#7201a8"
            ],
            [
             0.3333333333333333,
             "#9c179e"
            ],
            [
             0.4444444444444444,
             "#bd3786"
            ],
            [
             0.5555555555555556,
             "#d8576b"
            ],
            [
             0.6666666666666666,
             "#ed7953"
            ],
            [
             0.7777777777777778,
             "#fb9f3a"
            ],
            [
             0.8888888888888888,
             "#fdca26"
            ],
            [
             1,
             "#f0f921"
            ]
           ],
           "sequentialminus": [
            [
             0,
             "#0d0887"
            ],
            [
             0.1111111111111111,
             "#46039f"
            ],
            [
             0.2222222222222222,
             "#7201a8"
            ],
            [
             0.3333333333333333,
             "#9c179e"
            ],
            [
             0.4444444444444444,
             "#bd3786"
            ],
            [
             0.5555555555555556,
             "#d8576b"
            ],
            [
             0.6666666666666666,
             "#ed7953"
            ],
            [
             0.7777777777777778,
             "#fb9f3a"
            ],
            [
             0.8888888888888888,
             "#fdca26"
            ],
            [
             1,
             "#f0f921"
            ]
           ]
          },
          "colorway": [
           "#636efa",
           "#EF553B",
           "#00cc96",
           "#ab63fa",
           "#FFA15A",
           "#19d3f3",
           "#FF6692",
           "#B6E880",
           "#FF97FF",
           "#FECB52"
          ],
          "font": {
           "color": "#2a3f5f"
          },
          "geo": {
           "bgcolor": "white",
           "lakecolor": "white",
           "landcolor": "white",
           "showlakes": true,
           "showland": true,
           "subunitcolor": "#C8D4E3"
          },
          "hoverlabel": {
           "align": "left"
          },
          "hovermode": "closest",
          "mapbox": {
           "style": "light"
          },
          "paper_bgcolor": "white",
          "plot_bgcolor": "white",
          "polar": {
           "angularaxis": {
            "gridcolor": "#EBF0F8",
            "linecolor": "#EBF0F8",
            "ticks": ""
           },
           "bgcolor": "white",
           "radialaxis": {
            "gridcolor": "#EBF0F8",
            "linecolor": "#EBF0F8",
            "ticks": ""
           }
          },
          "scene": {
           "xaxis": {
            "backgroundcolor": "white",
            "gridcolor": "#DFE8F3",
            "gridwidth": 2,
            "linecolor": "#EBF0F8",
            "showbackground": true,
            "ticks": "",
            "zerolinecolor": "#EBF0F8"
           },
           "yaxis": {
            "backgroundcolor": "white",
            "gridcolor": "#DFE8F3",
            "gridwidth": 2,
            "linecolor": "#EBF0F8",
            "showbackground": true,
            "ticks": "",
            "zerolinecolor": "#EBF0F8"
           },
           "zaxis": {
            "backgroundcolor": "white",
            "gridcolor": "#DFE8F3",
            "gridwidth": 2,
            "linecolor": "#EBF0F8",
            "showbackground": true,
            "ticks": "",
            "zerolinecolor": "#EBF0F8"
           }
          },
          "shapedefaults": {
           "line": {
            "color": "#2a3f5f"
           }
          },
          "ternary": {
           "aaxis": {
            "gridcolor": "#DFE8F3",
            "linecolor": "#A2B1C6",
            "ticks": ""
           },
           "baxis": {
            "gridcolor": "#DFE8F3",
            "linecolor": "#A2B1C6",
            "ticks": ""
           },
           "bgcolor": "white",
           "caxis": {
            "gridcolor": "#DFE8F3",
            "linecolor": "#A2B1C6",
            "ticks": ""
           }
          },
          "title": {
           "x": 0.05
          },
          "xaxis": {
           "automargin": true,
           "gridcolor": "#EBF0F8",
           "linecolor": "#EBF0F8",
           "ticks": "",
           "title": {
            "standoff": 15
           },
           "zerolinecolor": "#EBF0F8",
           "zerolinewidth": 2
          },
          "yaxis": {
           "automargin": true,
           "gridcolor": "#EBF0F8",
           "linecolor": "#EBF0F8",
           "ticks": "",
           "title": {
            "standoff": 15
           },
           "zerolinecolor": "#EBF0F8",
           "zerolinewidth": 2
          }
         }
        },
        "title": {
         "font": {
          "color": "#FFFFFF",
          "family": "SF Pro Display, -apple-system, BlinkMacSystemFont, Segoe UI, Roboto, Helvetica Neue, Arial, sans-serif",
          "size": 24
         },
         "text": "",
         "x": 0.5,
         "xanchor": "center",
         "y": 0.98,
         "yanchor": "top"
        },
        "width": 1000,
        "xaxis": {
         "anchor": "y",
         "domain": [
          0,
          1
         ],
         "gridcolor": "#38383A",
         "gridwidth": 1,
         "linecolor": "#38383A",
         "linewidth": 1,
         "mirror": true,
         "showgrid": true,
         "showline": true,
         "title": {
          "font": {
           "family": "SF Pro Display, -apple-system, BlinkMacSystemFont, Segoe UI, Roboto, Helvetica Neue, Arial, sans-serif",
           "size": 14
          },
          "text": "Step"
         },
         "zeroline": false
        },
        "xaxis2": {
         "anchor": "y2",
         "domain": [
          0,
          1
         ],
         "gridcolor": "#38383A",
         "gridwidth": 1,
         "linecolor": "#38383A",
         "linewidth": 1,
         "mirror": true,
         "showgrid": true,
         "showline": true,
         "title": {
          "font": {
           "family": "SF Pro Display, -apple-system, BlinkMacSystemFont, Segoe UI, Roboto, Helvetica Neue, Arial, sans-serif",
           "size": 14
          },
          "text": "Step"
         },
         "zeroline": false
        },
        "xaxis3": {
         "anchor": "y3",
         "domain": [
          0,
          1
         ],
         "gridcolor": "#38383A",
         "gridwidth": 1,
         "linecolor": "#38383A",
         "linewidth": 1,
         "mirror": true,
         "showgrid": true,
         "showline": true,
         "title": {
          "font": {
           "family": "SF Pro Display, -apple-system, BlinkMacSystemFont, Segoe UI, Roboto, Helvetica Neue, Arial, sans-serif",
           "size": 14
          },
          "text": "Step"
         },
         "zeroline": false
        },
        "xaxis4": {
         "anchor": "y4",
         "domain": [
          0,
          1
         ],
         "gridcolor": "#38383A",
         "gridwidth": 1,
         "linecolor": "#38383A",
         "linewidth": 1,
         "mirror": true,
         "showgrid": true,
         "showline": true,
         "title": {
          "font": {
           "family": "SF Pro Display, -apple-system, BlinkMacSystemFont, Segoe UI, Roboto, Helvetica Neue, Arial, sans-serif",
           "size": 14
          },
          "text": "Step"
         },
         "zeroline": false
        },
        "xaxis5": {
         "anchor": "y5",
         "domain": [
          0,
          1
         ],
         "gridcolor": "#38383A",
         "gridwidth": 1,
         "linecolor": "#38383A",
         "linewidth": 1,
         "mirror": true,
         "showgrid": true,
         "showline": true,
         "title": {
          "font": {
           "family": "SF Pro Display, -apple-system, BlinkMacSystemFont, Segoe UI, Roboto, Helvetica Neue, Arial, sans-serif",
           "size": 14
          },
          "text": "Step"
         },
         "zeroline": false
        },
        "yaxis": {
         "anchor": "x",
         "domain": [
          0.8639999999999999,
          0.9999999999999999
         ],
         "gridcolor": "#38383A",
         "gridwidth": 1,
         "linecolor": "#38383A",
         "linewidth": 1,
         "mirror": true,
         "showgrid": true,
         "showline": true,
         "title": {
          "text": "E-value"
         },
         "type": "log",
         "zeroline": false
        },
        "yaxis2": {
         "anchor": "x2",
         "domain": [
          0.6479999999999999,
          0.7839999999999999
         ],
         "gridcolor": "#38383A",
         "gridwidth": 1,
         "linecolor": "#38383A",
         "linewidth": 1,
         "mirror": true,
         "showgrid": true,
         "showline": true,
         "title": {
          "text": "Cumulative E-value"
         },
         "type": "log",
         "zeroline": false
        },
        "yaxis3": {
         "anchor": "x3",
         "domain": [
          0.43199999999999994,
          0.568
         ],
         "gridcolor": "#38383A",
         "gridwidth": 1,
         "linecolor": "#38383A",
         "linewidth": 1,
         "mirror": true,
         "showgrid": true,
         "showline": true,
         "ticksuffix": "%",
         "title": {
          "text": "E-power (%)"
         },
         "zeroline": false
        },
        "yaxis4": {
         "anchor": "x4",
         "domain": [
          0.21599999999999997,
          0.352
         ],
         "gridcolor": "#38383A",
         "gridwidth": 1,
         "linecolor": "#38383A",
         "linewidth": 1,
         "mirror": true,
         "range": [
          -5,
          100
         ],
         "showgrid": true,
         "showline": true,
         "ticksuffix": "%",
         "title": {
          "text": "p-value (%)"
         },
         "zeroline": false
        },
        "yaxis5": {
         "anchor": "x5",
         "domain": [
          0,
          0.13599999999999998
         ],
         "gridcolor": "#38383A",
         "gridwidth": 1,
         "linecolor": "#38383A",
         "linewidth": 1,
         "mirror": true,
         "showgrid": true,
         "showline": true,
         "title": {
          "text": "Value"
         },
         "zeroline": false
        }
       }
      }
     },
     "metadata": {},
     "output_type": "display_data"
    }
   ],
   "source": [
    "plot_sequential_test_plotly(test.get_history_df(), log_scale=True, theme=\"dark\")"
   ]
  },
  {
   "cell_type": "markdown",
   "metadata": {},
   "source": [
    "### Example 2: The Macbeth Effect (Zhong & Liljenquist, 2006, Study 2)\n",
    "\n",
    "Testing whether moral violations increase desire for physical cleansing.\n",
    "Original study:\n",
    "- Unethical condition: mean = 4.95, sd = 0.84, n = 27\n",
    "- Ethical condition: mean = 3.75, sd = 1.32, n = 27"
   ]
  },
  {
   "cell_type": "code",
   "execution_count": 12,
   "metadata": {},
   "outputs": [],
   "source": [
    "config = EValueConfig(significance_level=0.05, allow_infinite=False)\n",
    "\n",
    "test2 = SequentialTest(\n",
    "    test_type=\"mean\",\n",
    "    null_value=0,\n",
    "    alternative=\"greater\",\n",
    "    config=config\n",
    ")\n",
    "\n",
    "# Generate example data similar to replication attempts\n",
    "np.random.seed(42)\n",
    "unethical_ratings = np.random.normal(4.95, 0.84, size=27)  # Unethical condition\n",
    "ethical_ratings = np.random.normal(3.75, 1.32, size=27)    # Ethical condition\n"
   ]
  },
  {
   "cell_type": "code",
   "execution_count": 13,
   "metadata": {},
   "outputs": [
    {
     "name": "stdout",
     "output_type": "stream",
     "text": [
      "\n",
      "Batch 1:\n",
      "E-value: 32.38\n",
      "Cumulative e-value: 32.38\n",
      "Reject null: True\n",
      "\n",
      "Batch 2:\n",
      "E-value: 2.23\n",
      "Cumulative e-value: 72.35\n",
      "Reject null: True\n",
      "\n",
      "Batch 3:\n",
      "E-value: 1043.06\n",
      "Cumulative e-value: 75460.94\n",
      "Reject null: True\n",
      "\n",
      "Batch 4:\n",
      "E-value: 1720.36\n",
      "Cumulative e-value: 129820288.36\n",
      "Reject null: True\n",
      "\n",
      "Batch 5:\n",
      "E-value: 0.28\n",
      "Cumulative e-value: 36213491.20\n",
      "Reject null: True\n",
      "\n",
      "Batch 6:\n",
      "E-value: 28.60\n",
      "Cumulative e-value: 1035880693.95\n",
      "Reject null: True\n",
      "\n",
      "Batch 7:\n",
      "E-value: 2.66\n",
      "Cumulative e-value: 2757613276.75\n",
      "Reject null: True\n",
      "\n",
      "Batch 8:\n",
      "E-value: 5.27\n",
      "Cumulative e-value: 14523957265.87\n",
      "Reject null: True\n",
      "\n",
      "Batch 9:\n",
      "E-value: 2.25\n",
      "Cumulative e-value: 32750393282.31\n",
      "Reject null: True\n",
      "\n",
      "Final analysis complete\n",
      "Total samples analyzed: 27\n"
     ]
    }
   ],
   "source": [
    "batch_size = 3\n",
    "for i in range(0, len(unethical_ratings), batch_size):\n",
    "    unethical_batch = unethical_ratings[i:i+batch_size]\n",
    "    ethical_batch = ethical_ratings[i:i+batch_size]\n",
    "    \n",
    "    if len(unethical_batch) != len(ethical_batch):\n",
    "        continue\n",
    "        \n",
    "    result2 = test2.update(unethical_batch - ethical_batch)\n",
    "    \n",
    "    print(f\"\\nBatch {i//batch_size + 1}:\")\n",
    "    print(f\"E-value: {result2.e_value:.2f}\")\n",
    "    print(f\"Cumulative e-value: {result2.e_process.cumulative_value:.2f}\")\n",
    "    print(f\"Reject null: {result2.reject_null}\")\n",
    "    \n",
    "    # For this example, we'll run the full analysis to show non-significance\n",
    "    \n",
    "print(f\"\\nFinal analysis complete\")\n",
    "print(f\"Total samples analyzed: {result2.sample_size}\")"
   ]
  },
  {
   "cell_type": "code",
   "execution_count": 14,
   "metadata": {},
   "outputs": [
    {
     "data": {
      "application/vnd.plotly.v1+json": {
       "config": {
        "plotlyServerURL": "https://plot.ly"
       },
       "data": [
        {
         "hovertemplate": "<b>Step %{x}</b><br>%{y:.4f}<extra></extra>",
         "line": {
          "color": "#0A84FF",
          "shape": "spline",
          "width": 2
         },
         "marker": {
          "color": "#0A84FF",
          "line": {
           "color": "white",
           "width": 1
          },
          "opacity": 0.8,
          "size": 8
         },
         "mode": "lines+markers",
         "name": "E-value",
         "type": "scatter",
         "x": {
          "bdata": "AQIDBAUGBwgJ",
          "dtype": "i1"
         },
         "xaxis": "x",
         "y": {
          "bdata": "ZeOhsS8xQEAr+8pNLt8BQLTZp7Q+TJBAQNUbznThmkBTcN4IVdrRP3fEOQXWmjxAsPJSsvhLBUCx6F8yQxEVQOB06aIUCgJA",
          "dtype": "f8"
         },
         "yaxis": "y"
        },
        {
         "hoverinfo": "skip",
         "line": {
          "color": "#98989D",
          "dash": "dash",
          "width": 1
         },
         "mode": "lines",
         "name": "E-value = 1",
         "showlegend": false,
         "type": "scatter",
         "x": [
          1,
          9
         ],
         "xaxis": "x",
         "y": [
          1,
          1
         ],
         "yaxis": "y"
        },
        {
         "hovertemplate": "<b>Step %{x}</b><br>%{y:.4f}<extra></extra>",
         "line": {
          "color": "#30D158",
          "shape": "spline",
          "width": 2
         },
         "marker": {
          "color": "#30D158",
          "line": {
           "color": "white",
           "width": 1
          },
          "opacity": 0.8,
          "size": 8
         },
         "mode": "lines+markers",
         "name": "Cumulative E-value",
         "type": "scatter",
         "x": {
          "bdata": "AQIDBAUGBwgJ",
          "dtype": "i1"
         },
         "xaxis": "x2",
         "y": {
          "bdata": "ZeOhsS8xQEBOAZsRHxZSQE+gHQdPbPJAgq5zAZrznkHHeZSZl0SBQRd4+Xok385BaemX27qL5EGv+44AkA0LQllCCV9NgB5C",
          "dtype": "f8"
         },
         "yaxis": "y2"
        },
        {
         "hoverinfo": "skip",
         "line": {
          "color": "#FF453A",
          "dash": "dash",
          "width": 2
         },
         "mode": "lines",
         "name": "Rejection Boundary (1/α = 20.0)",
         "type": "scatter",
         "x": [
          1,
          9
         ],
         "xaxis": "x2",
         "y": [
          20,
          20
         ],
         "yaxis": "y2"
        },
        {
         "hovertemplate": "<b>Step %{x}</b><br>%{y:.2f}%<extra></extra>",
         "line": {
          "color": "#FF9F0A",
          "shape": "spline",
          "width": 2
         },
         "marker": {
          "color": "#FF9F0A",
          "line": {
           "color": "white",
           "width": 1
          },
          "opacity": 0.8,
          "size": 8
         },
         "mode": "lines+markers",
         "name": "E-power",
         "type": "scatter",
         "x": {
          "bdata": "AQIDBAUGBwgJ",
          "dtype": "i1"
         },
         "xaxis": "x3",
         "y": {
          "bdata": "AAAAAAAAAACGv7MUVMJqQDI8sXEQZndApLpIJ6owfUCFLGLflMF1QOKC69Can3VAwVJJ+Zloc0CW6lQl0EdyQNf0P0Bj0HBA",
          "dtype": "f8"
         },
         "yaxis": "y3"
        },
        {
         "hovertemplate": "<b>Step %{x}</b><br>%{y:.2f}%<extra></extra>",
         "line": {
          "color": "#BF5AF2",
          "shape": "spline",
          "width": 2
         },
         "marker": {
          "color": "#BF5AF2",
          "line": {
           "color": "white",
           "width": 1
          },
          "opacity": 0.8,
          "size": 8
         },
         "mode": "lines+markers",
         "name": "p-value",
         "type": "scatter",
         "x": {
          "bdata": "AQIDBAUGBwgJ",
          "dtype": "i1"
         },
         "xaxis": "x4",
         "y": {
          "bdata": "6xUW7w60CEBhagSEtR32P2IJj8I+tlU/CsmC/cnYqT5Sz4myECrHPt/o4Afr6Xk++V0qbvt3Yz66aDS3VJI9PqmLhIN+Oio+",
          "dtype": "f8"
         },
         "yaxis": "y4"
        },
        {
         "hoverinfo": "skip",
         "line": {
          "color": "#FF453A",
          "dash": "dash",
          "width": 2
         },
         "mode": "lines",
         "name": "Rejection Boundary (α = 0.05)",
         "type": "scatter",
         "x": [
          1,
          9
         ],
         "xaxis": "x4",
         "y": [
          5,
          5
         ],
         "yaxis": "y4"
        },
        {
         "hovertemplate": "<b>Step %{x}</b><br>Value: %{y:.4f}<extra></extra>",
         "marker": {
          "color": "#FF375F",
          "line": {
           "color": "white",
           "width": 1
          },
          "opacity": 0.8,
          "size": 10,
          "symbol": "circle"
         },
         "mode": "markers",
         "name": "Observations",
         "type": "scatter",
         "x": {
          "bdata": "AQEBAgICAwMDBAQEBQUFBgYGBwcHCAgICQkJ",
          "dtype": "i1"
         },
         "xaxis": "x5",
         "y": {
          "bdata": "MMsGrOvw8T+AqTOw9wb+P1eMt39iCAFA3KIcDFQwCkBkrHXdLxH3v/Ljk0CYVvA/4O/+jLlhD0BYyhEPy0joP8BsR25VVgNAeO7o0q8U9j9OfYQtES4LQGROyvj1fgRAMOpz3FRL8j9o8Un8Yxz2v9ihqHulaN6/aD43pbIr7D8YZo7OyuTnP9Io0+QuUwtAyriBGgMz9j8I9sFRCOXjP2Su4+hnkvA/OPdxBRPR4T9698QA56sMQHBpN7lOLNu/alnXAzUE9D9GroveYn4BQFShDOM7YOK/",
          "dtype": "f8"
         },
         "yaxis": "y5"
        }
       ],
       "layout": {
        "annotations": [
         {
          "font": {
           "size": 16
          },
          "showarrow": false,
          "text": "Individual E-values",
          "x": 0.5,
          "xanchor": "center",
          "xref": "paper",
          "y": 0.9999999999999999,
          "yanchor": "bottom",
          "yref": "paper"
         },
         {
          "font": {
           "size": 16
          },
          "showarrow": false,
          "text": "Cumulative E-values (E-Process)",
          "x": 0.5,
          "xanchor": "center",
          "xref": "paper",
          "y": 0.7839999999999999,
          "yanchor": "bottom",
          "yref": "paper"
         },
         {
          "font": {
           "size": 16
          },
          "showarrow": false,
          "text": "E-power (growth rate)",
          "x": 0.5,
          "xanchor": "center",
          "xref": "paper",
          "y": 0.568,
          "yanchor": "bottom",
          "yref": "paper"
         },
         {
          "font": {
           "size": 16
          },
          "showarrow": false,
          "text": "p-values (converted from e-values)",
          "x": 0.5,
          "xanchor": "center",
          "xref": "paper",
          "y": 0.352,
          "yanchor": "bottom",
          "yref": "paper"
         },
         {
          "font": {
           "size": 16
          },
          "showarrow": false,
          "text": "Raw Observations",
          "x": 0.5,
          "xanchor": "center",
          "xref": "paper",
          "y": 0.13599999999999998,
          "yanchor": "bottom",
          "yref": "paper"
         }
        ],
        "font": {
         "color": "#FFFFFF",
         "family": "SF Pro Display, -apple-system, BlinkMacSystemFont, Segoe UI, Roboto, Helvetica Neue, Arial, sans-serif"
        },
        "height": 1200,
        "hoverlabel": {
         "bgcolor": "white",
         "font": {
          "family": "SF Pro Display, -apple-system, BlinkMacSystemFont, Segoe UI, Roboto, Helvetica Neue, Arial, sans-serif",
          "size": 12
         }
        },
        "hovermode": "closest",
        "legend": {
         "bgcolor": "rgba(40, 40, 45, 0.85)",
         "font": {
          "color": "#FFFFFF"
         },
         "orientation": "h",
         "x": 1,
         "xanchor": "right",
         "y": 1.02,
         "yanchor": "bottom"
        },
        "paper_bgcolor": "#000000",
        "plot_bgcolor": "#1C1C1E",
        "showlegend": true,
        "template": {
         "data": {
          "bar": [
           {
            "error_x": {
             "color": "#2a3f5f"
            },
            "error_y": {
             "color": "#2a3f5f"
            },
            "marker": {
             "line": {
              "color": "white",
              "width": 0.5
             },
             "pattern": {
              "fillmode": "overlay",
              "size": 10,
              "solidity": 0.2
             }
            },
            "type": "bar"
           }
          ],
          "barpolar": [
           {
            "marker": {
             "line": {
              "color": "white",
              "width": 0.5
             },
             "pattern": {
              "fillmode": "overlay",
              "size": 10,
              "solidity": 0.2
             }
            },
            "type": "barpolar"
           }
          ],
          "carpet": [
           {
            "aaxis": {
             "endlinecolor": "#2a3f5f",
             "gridcolor": "#C8D4E3",
             "linecolor": "#C8D4E3",
             "minorgridcolor": "#C8D4E3",
             "startlinecolor": "#2a3f5f"
            },
            "baxis": {
             "endlinecolor": "#2a3f5f",
             "gridcolor": "#C8D4E3",
             "linecolor": "#C8D4E3",
             "minorgridcolor": "#C8D4E3",
             "startlinecolor": "#2a3f5f"
            },
            "type": "carpet"
           }
          ],
          "choropleth": [
           {
            "colorbar": {
             "outlinewidth": 0,
             "ticks": ""
            },
            "type": "choropleth"
           }
          ],
          "contour": [
           {
            "colorbar": {
             "outlinewidth": 0,
             "ticks": ""
            },
            "colorscale": [
             [
              0,
              "#0d0887"
             ],
             [
              0.1111111111111111,
              "#46039f"
             ],
             [
              0.2222222222222222,
              "#7201a8"
             ],
             [
              0.3333333333333333,
              "#9c179e"
             ],
             [
              0.4444444444444444,
              "#bd3786"
             ],
             [
              0.5555555555555556,
              "#d8576b"
             ],
             [
              0.6666666666666666,
              "#ed7953"
             ],
             [
              0.7777777777777778,
              "#fb9f3a"
             ],
             [
              0.8888888888888888,
              "#fdca26"
             ],
             [
              1,
              "#f0f921"
             ]
            ],
            "type": "contour"
           }
          ],
          "contourcarpet": [
           {
            "colorbar": {
             "outlinewidth": 0,
             "ticks": ""
            },
            "type": "contourcarpet"
           }
          ],
          "heatmap": [
           {
            "colorbar": {
             "outlinewidth": 0,
             "ticks": ""
            },
            "colorscale": [
             [
              0,
              "#0d0887"
             ],
             [
              0.1111111111111111,
              "#46039f"
             ],
             [
              0.2222222222222222,
              "#7201a8"
             ],
             [
              0.3333333333333333,
              "#9c179e"
             ],
             [
              0.4444444444444444,
              "#bd3786"
             ],
             [
              0.5555555555555556,
              "#d8576b"
             ],
             [
              0.6666666666666666,
              "#ed7953"
             ],
             [
              0.7777777777777778,
              "#fb9f3a"
             ],
             [
              0.8888888888888888,
              "#fdca26"
             ],
             [
              1,
              "#f0f921"
             ]
            ],
            "type": "heatmap"
           }
          ],
          "histogram": [
           {
            "marker": {
             "pattern": {
              "fillmode": "overlay",
              "size": 10,
              "solidity": 0.2
             }
            },
            "type": "histogram"
           }
          ],
          "histogram2d": [
           {
            "colorbar": {
             "outlinewidth": 0,
             "ticks": ""
            },
            "colorscale": [
             [
              0,
              "#0d0887"
             ],
             [
              0.1111111111111111,
              "#46039f"
             ],
             [
              0.2222222222222222,
              "#7201a8"
             ],
             [
              0.3333333333333333,
              "#9c179e"
             ],
             [
              0.4444444444444444,
              "#bd3786"
             ],
             [
              0.5555555555555556,
              "#d8576b"
             ],
             [
              0.6666666666666666,
              "#ed7953"
             ],
             [
              0.7777777777777778,
              "#fb9f3a"
             ],
             [
              0.8888888888888888,
              "#fdca26"
             ],
             [
              1,
              "#f0f921"
             ]
            ],
            "type": "histogram2d"
           }
          ],
          "histogram2dcontour": [
           {
            "colorbar": {
             "outlinewidth": 0,
             "ticks": ""
            },
            "colorscale": [
             [
              0,
              "#0d0887"
             ],
             [
              0.1111111111111111,
              "#46039f"
             ],
             [
              0.2222222222222222,
              "#7201a8"
             ],
             [
              0.3333333333333333,
              "#9c179e"
             ],
             [
              0.4444444444444444,
              "#bd3786"
             ],
             [
              0.5555555555555556,
              "#d8576b"
             ],
             [
              0.6666666666666666,
              "#ed7953"
             ],
             [
              0.7777777777777778,
              "#fb9f3a"
             ],
             [
              0.8888888888888888,
              "#fdca26"
             ],
             [
              1,
              "#f0f921"
             ]
            ],
            "type": "histogram2dcontour"
           }
          ],
          "mesh3d": [
           {
            "colorbar": {
             "outlinewidth": 0,
             "ticks": ""
            },
            "type": "mesh3d"
           }
          ],
          "parcoords": [
           {
            "line": {
             "colorbar": {
              "outlinewidth": 0,
              "ticks": ""
             }
            },
            "type": "parcoords"
           }
          ],
          "pie": [
           {
            "automargin": true,
            "type": "pie"
           }
          ],
          "scatter": [
           {
            "fillpattern": {
             "fillmode": "overlay",
             "size": 10,
             "solidity": 0.2
            },
            "type": "scatter"
           }
          ],
          "scatter3d": [
           {
            "line": {
             "colorbar": {
              "outlinewidth": 0,
              "ticks": ""
             }
            },
            "marker": {
             "colorbar": {
              "outlinewidth": 0,
              "ticks": ""
             }
            },
            "type": "scatter3d"
           }
          ],
          "scattercarpet": [
           {
            "marker": {
             "colorbar": {
              "outlinewidth": 0,
              "ticks": ""
             }
            },
            "type": "scattercarpet"
           }
          ],
          "scattergeo": [
           {
            "marker": {
             "colorbar": {
              "outlinewidth": 0,
              "ticks": ""
             }
            },
            "type": "scattergeo"
           }
          ],
          "scattergl": [
           {
            "marker": {
             "colorbar": {
              "outlinewidth": 0,
              "ticks": ""
             }
            },
            "type": "scattergl"
           }
          ],
          "scattermap": [
           {
            "marker": {
             "colorbar": {
              "outlinewidth": 0,
              "ticks": ""
             }
            },
            "type": "scattermap"
           }
          ],
          "scattermapbox": [
           {
            "marker": {
             "colorbar": {
              "outlinewidth": 0,
              "ticks": ""
             }
            },
            "type": "scattermapbox"
           }
          ],
          "scatterpolar": [
           {
            "marker": {
             "colorbar": {
              "outlinewidth": 0,
              "ticks": ""
             }
            },
            "type": "scatterpolar"
           }
          ],
          "scatterpolargl": [
           {
            "marker": {
             "colorbar": {
              "outlinewidth": 0,
              "ticks": ""
             }
            },
            "type": "scatterpolargl"
           }
          ],
          "scatterternary": [
           {
            "marker": {
             "colorbar": {
              "outlinewidth": 0,
              "ticks": ""
             }
            },
            "type": "scatterternary"
           }
          ],
          "surface": [
           {
            "colorbar": {
             "outlinewidth": 0,
             "ticks": ""
            },
            "colorscale": [
             [
              0,
              "#0d0887"
             ],
             [
              0.1111111111111111,
              "#46039f"
             ],
             [
              0.2222222222222222,
              "#7201a8"
             ],
             [
              0.3333333333333333,
              "#9c179e"
             ],
             [
              0.4444444444444444,
              "#bd3786"
             ],
             [
              0.5555555555555556,
              "#d8576b"
             ],
             [
              0.6666666666666666,
              "#ed7953"
             ],
             [
              0.7777777777777778,
              "#fb9f3a"
             ],
             [
              0.8888888888888888,
              "#fdca26"
             ],
             [
              1,
              "#f0f921"
             ]
            ],
            "type": "surface"
           }
          ],
          "table": [
           {
            "cells": {
             "fill": {
              "color": "#EBF0F8"
             },
             "line": {
              "color": "white"
             }
            },
            "header": {
             "fill": {
              "color": "#C8D4E3"
             },
             "line": {
              "color": "white"
             }
            },
            "type": "table"
           }
          ]
         },
         "layout": {
          "annotationdefaults": {
           "arrowcolor": "#2a3f5f",
           "arrowhead": 0,
           "arrowwidth": 1
          },
          "autotypenumbers": "strict",
          "coloraxis": {
           "colorbar": {
            "outlinewidth": 0,
            "ticks": ""
           }
          },
          "colorscale": {
           "diverging": [
            [
             0,
             "#8e0152"
            ],
            [
             0.1,
             "#c51b7d"
            ],
            [
             0.2,
             "#de77ae"
            ],
            [
             0.3,
             "#f1b6da"
            ],
            [
             0.4,
             "#fde0ef"
            ],
            [
             0.5,
             "#f7f7f7"
            ],
            [
             0.6,
             "#e6f5d0"
            ],
            [
             0.7,
             "#b8e186"
            ],
            [
             0.8,
             "#7fbc41"
            ],
            [
             0.9,
             "#4d9221"
            ],
            [
             1,
             "#276419"
            ]
           ],
           "sequential": [
            [
             0,
             "#0d0887"
            ],
            [
             0.1111111111111111,
             "#46039f"
            ],
            [
             0.2222222222222222,
             "#7201a8"
            ],
            [
             0.3333333333333333,
             "#9c179e"
            ],
            [
             0.4444444444444444,
             "#bd3786"
            ],
            [
             0.5555555555555556,
             "#d8576b"
            ],
            [
             0.6666666666666666,
             "#ed7953"
            ],
            [
             0.7777777777777778,
             "#fb9f3a"
            ],
            [
             0.8888888888888888,
             "#fdca26"
            ],
            [
             1,
             "#f0f921"
            ]
           ],
           "sequentialminus": [
            [
             0,
             "#0d0887"
            ],
            [
             0.1111111111111111,
             "#46039f"
            ],
            [
             0.2222222222222222,
             "#7201a8"
            ],
            [
             0.3333333333333333,
             "#9c179e"
            ],
            [
             0.4444444444444444,
             "#bd3786"
            ],
            [
             0.5555555555555556,
             "#d8576b"
            ],
            [
             0.6666666666666666,
             "#ed7953"
            ],
            [
             0.7777777777777778,
             "#fb9f3a"
            ],
            [
             0.8888888888888888,
             "#fdca26"
            ],
            [
             1,
             "#f0f921"
            ]
           ]
          },
          "colorway": [
           "#636efa",
           "#EF553B",
           "#00cc96",
           "#ab63fa",
           "#FFA15A",
           "#19d3f3",
           "#FF6692",
           "#B6E880",
           "#FF97FF",
           "#FECB52"
          ],
          "font": {
           "color": "#2a3f5f"
          },
          "geo": {
           "bgcolor": "white",
           "lakecolor": "white",
           "landcolor": "white",
           "showlakes": true,
           "showland": true,
           "subunitcolor": "#C8D4E3"
          },
          "hoverlabel": {
           "align": "left"
          },
          "hovermode": "closest",
          "mapbox": {
           "style": "light"
          },
          "paper_bgcolor": "white",
          "plot_bgcolor": "white",
          "polar": {
           "angularaxis": {
            "gridcolor": "#EBF0F8",
            "linecolor": "#EBF0F8",
            "ticks": ""
           },
           "bgcolor": "white",
           "radialaxis": {
            "gridcolor": "#EBF0F8",
            "linecolor": "#EBF0F8",
            "ticks": ""
           }
          },
          "scene": {
           "xaxis": {
            "backgroundcolor": "white",
            "gridcolor": "#DFE8F3",
            "gridwidth": 2,
            "linecolor": "#EBF0F8",
            "showbackground": true,
            "ticks": "",
            "zerolinecolor": "#EBF0F8"
           },
           "yaxis": {
            "backgroundcolor": "white",
            "gridcolor": "#DFE8F3",
            "gridwidth": 2,
            "linecolor": "#EBF0F8",
            "showbackground": true,
            "ticks": "",
            "zerolinecolor": "#EBF0F8"
           },
           "zaxis": {
            "backgroundcolor": "white",
            "gridcolor": "#DFE8F3",
            "gridwidth": 2,
            "linecolor": "#EBF0F8",
            "showbackground": true,
            "ticks": "",
            "zerolinecolor": "#EBF0F8"
           }
          },
          "shapedefaults": {
           "line": {
            "color": "#2a3f5f"
           }
          },
          "ternary": {
           "aaxis": {
            "gridcolor": "#DFE8F3",
            "linecolor": "#A2B1C6",
            "ticks": ""
           },
           "baxis": {
            "gridcolor": "#DFE8F3",
            "linecolor": "#A2B1C6",
            "ticks": ""
           },
           "bgcolor": "white",
           "caxis": {
            "gridcolor": "#DFE8F3",
            "linecolor": "#A2B1C6",
            "ticks": ""
           }
          },
          "title": {
           "x": 0.05
          },
          "xaxis": {
           "automargin": true,
           "gridcolor": "#EBF0F8",
           "linecolor": "#EBF0F8",
           "ticks": "",
           "title": {
            "standoff": 15
           },
           "zerolinecolor": "#EBF0F8",
           "zerolinewidth": 2
          },
          "yaxis": {
           "automargin": true,
           "gridcolor": "#EBF0F8",
           "linecolor": "#EBF0F8",
           "ticks": "",
           "title": {
            "standoff": 15
           },
           "zerolinecolor": "#EBF0F8",
           "zerolinewidth": 2
          }
         }
        },
        "title": {
         "font": {
          "color": "#FFFFFF",
          "family": "SF Pro Display, -apple-system, BlinkMacSystemFont, Segoe UI, Roboto, Helvetica Neue, Arial, sans-serif",
          "size": 24
         },
         "text": "",
         "x": 0.5,
         "xanchor": "center",
         "y": 0.98,
         "yanchor": "top"
        },
        "width": 1000,
        "xaxis": {
         "anchor": "y",
         "domain": [
          0,
          1
         ],
         "gridcolor": "#38383A",
         "gridwidth": 1,
         "linecolor": "#38383A",
         "linewidth": 1,
         "mirror": true,
         "showgrid": true,
         "showline": true,
         "title": {
          "font": {
           "family": "SF Pro Display, -apple-system, BlinkMacSystemFont, Segoe UI, Roboto, Helvetica Neue, Arial, sans-serif",
           "size": 14
          },
          "text": "Step"
         },
         "zeroline": false
        },
        "xaxis2": {
         "anchor": "y2",
         "domain": [
          0,
          1
         ],
         "gridcolor": "#38383A",
         "gridwidth": 1,
         "linecolor": "#38383A",
         "linewidth": 1,
         "mirror": true,
         "showgrid": true,
         "showline": true,
         "title": {
          "font": {
           "family": "SF Pro Display, -apple-system, BlinkMacSystemFont, Segoe UI, Roboto, Helvetica Neue, Arial, sans-serif",
           "size": 14
          },
          "text": "Step"
         },
         "zeroline": false
        },
        "xaxis3": {
         "anchor": "y3",
         "domain": [
          0,
          1
         ],
         "gridcolor": "#38383A",
         "gridwidth": 1,
         "linecolor": "#38383A",
         "linewidth": 1,
         "mirror": true,
         "showgrid": true,
         "showline": true,
         "title": {
          "font": {
           "family": "SF Pro Display, -apple-system, BlinkMacSystemFont, Segoe UI, Roboto, Helvetica Neue, Arial, sans-serif",
           "size": 14
          },
          "text": "Step"
         },
         "zeroline": false
        },
        "xaxis4": {
         "anchor": "y4",
         "domain": [
          0,
          1
         ],
         "gridcolor": "#38383A",
         "gridwidth": 1,
         "linecolor": "#38383A",
         "linewidth": 1,
         "mirror": true,
         "showgrid": true,
         "showline": true,
         "title": {
          "font": {
           "family": "SF Pro Display, -apple-system, BlinkMacSystemFont, Segoe UI, Roboto, Helvetica Neue, Arial, sans-serif",
           "size": 14
          },
          "text": "Step"
         },
         "zeroline": false
        },
        "xaxis5": {
         "anchor": "y5",
         "domain": [
          0,
          1
         ],
         "gridcolor": "#38383A",
         "gridwidth": 1,
         "linecolor": "#38383A",
         "linewidth": 1,
         "mirror": true,
         "showgrid": true,
         "showline": true,
         "title": {
          "font": {
           "family": "SF Pro Display, -apple-system, BlinkMacSystemFont, Segoe UI, Roboto, Helvetica Neue, Arial, sans-serif",
           "size": 14
          },
          "text": "Step"
         },
         "zeroline": false
        },
        "yaxis": {
         "anchor": "x",
         "domain": [
          0.8639999999999999,
          0.9999999999999999
         ],
         "gridcolor": "#38383A",
         "gridwidth": 1,
         "linecolor": "#38383A",
         "linewidth": 1,
         "mirror": true,
         "showgrid": true,
         "showline": true,
         "title": {
          "text": "E-value"
         },
         "type": "log",
         "zeroline": false
        },
        "yaxis2": {
         "anchor": "x2",
         "domain": [
          0.6479999999999999,
          0.7839999999999999
         ],
         "gridcolor": "#38383A",
         "gridwidth": 1,
         "linecolor": "#38383A",
         "linewidth": 1,
         "mirror": true,
         "showgrid": true,
         "showline": true,
         "title": {
          "text": "Cumulative E-value"
         },
         "type": "log",
         "zeroline": false
        },
        "yaxis3": {
         "anchor": "x3",
         "domain": [
          0.43199999999999994,
          0.568
         ],
         "gridcolor": "#38383A",
         "gridwidth": 1,
         "linecolor": "#38383A",
         "linewidth": 1,
         "mirror": true,
         "showgrid": true,
         "showline": true,
         "ticksuffix": "%",
         "title": {
          "text": "E-power (%)"
         },
         "zeroline": false
        },
        "yaxis4": {
         "anchor": "x4",
         "domain": [
          0.21599999999999997,
          0.352
         ],
         "gridcolor": "#38383A",
         "gridwidth": 1,
         "linecolor": "#38383A",
         "linewidth": 1,
         "mirror": true,
         "range": [
          -5,
          100
         ],
         "showgrid": true,
         "showline": true,
         "ticksuffix": "%",
         "title": {
          "text": "p-value (%)"
         },
         "zeroline": false
        },
        "yaxis5": {
         "anchor": "x5",
         "domain": [
          0,
          0.13599999999999998
         ],
         "gridcolor": "#38383A",
         "gridwidth": 1,
         "linecolor": "#38383A",
         "linewidth": 1,
         "mirror": true,
         "showgrid": true,
         "showline": true,
         "title": {
          "text": "Value"
         },
         "zeroline": false
        }
       }
      }
     },
     "metadata": {},
     "output_type": "display_data"
    }
   ],
   "source": [
    "plot_sequential_test_plotly(test2.get_history_df(), log_scale=True, theme=\"dark\")"
   ]
  },
  {
   "cell_type": "code",
   "execution_count": 15,
   "metadata": {},
   "outputs": [],
   "source": [
    "fig3 = plot_combined_dashboard(test2.get_history_df(), theme=\"dark\")\n",
    "#fig3.write_html(\"sequential_dashboard.html\")"
   ]
  },
  {
   "cell_type": "code",
   "execution_count": 16,
   "metadata": {},
   "outputs": [
    {
     "data": {
      "application/vnd.plotly.v1+json": {
       "config": {
        "plotlyServerURL": "https://plot.ly"
       },
       "data": [
        {
         "hovertemplate": "<b>Step %{x}</b><br>E-value: %{y:.4f}<extra></extra>",
         "line": {
          "color": "#0A84FF",
          "shape": "spline",
          "width": 2
         },
         "marker": {
          "color": "#0A84FF",
          "line": {
           "color": "white",
           "width": 1
          },
          "opacity": 0.8,
          "size": 8
         },
         "mode": "lines+markers",
         "name": "E-value",
         "type": "scatter",
         "x": {
          "bdata": "AQIDBAUGBwgJ",
          "dtype": "i1"
         },
         "xaxis": "x2",
         "y": {
          "bdata": "ZeOhsS8xQEAr+8pNLt8BQLTZp7Q+TJBAQNUbznThmkBTcN4IVdrRP3fEOQXWmjxAsPJSsvhLBUCx6F8yQxEVQOB06aIUCgJA",
          "dtype": "f8"
         },
         "yaxis": "y2"
        },
        {
         "hoverinfo": "skip",
         "line": {
          "color": "#98989D",
          "dash": "dash",
          "width": 1
         },
         "mode": "lines",
         "name": "E-value = 1",
         "showlegend": false,
         "type": "scatter",
         "x": [
          1,
          9
         ],
         "xaxis": "x2",
         "y": [
          1,
          1
         ],
         "yaxis": "y2"
        },
        {
         "histnorm": "probability density",
         "hovertemplate": "Value: %{x}<br>Density: %{y:.4f}<extra></extra>",
         "marker": {
          "color": "#FF375F"
         },
         "name": "Observations",
         "nbinsx": 30,
         "opacity": 0.7,
         "type": "histogram",
         "x": {
          "bdata": "MMsGrOvw8T+AqTOw9wb+P1eMt39iCAFA3KIcDFQwCkBkrHXdLxH3v/Ljk0CYVvA/4O/+jLlhD0BYyhEPy0joP8BsR25VVgNAeO7o0q8U9j9OfYQtES4LQGROyvj1fgRAMOpz3FRL8j9o8Un8Yxz2v9ihqHulaN6/aD43pbIr7D8YZo7OyuTnP9Io0+QuUwtAyriBGgMz9j8I9sFRCOXjP2Su4+hnkvA/OPdxBRPR4T9698QA56sMQHBpN7lOLNu/alnXAzUE9D9GroveYn4BQFShDOM7YOK/",
          "dtype": "f8"
         },
         "xaxis": "x3",
         "yaxis": "y3"
        },
        {
         "fill": "tozeroy",
         "fillcolor": "rgba(48,209,88, 0.1)",
         "hovertemplate": "<b>Step %{x}</b><br>Cumulative E-value: %{y:.4f}<extra></extra>",
         "line": {
          "color": "#30D158",
          "shape": "spline",
          "width": 2
         },
         "marker": {
          "color": "#30D158",
          "line": {
           "color": "white",
           "width": 1
          },
          "opacity": 0.8,
          "size": 8
         },
         "mode": "lines+markers",
         "name": "Cumulative E-value",
         "type": "scatter",
         "x": {
          "bdata": "AQIDBAUGBwgJ",
          "dtype": "i1"
         },
         "xaxis": "x4",
         "y": {
          "bdata": "ZeOhsS8xQEBOAZsRHxZSQE+gHQdPbPJAgq5zAZrznkHHeZSZl0SBQRd4+Xok385BaemX27qL5EGv+44AkA0LQllCCV9NgB5C",
          "dtype": "f8"
         },
         "yaxis": "y4"
        },
        {
         "hovertemplate": "Threshold: 20.0000<extra></extra>",
         "line": {
          "color": "#FF453A",
          "dash": "dash",
          "width": 2
         },
         "mode": "lines",
         "name": "Rejection Boundary (1/α = 20.0)",
         "type": "scatter",
         "x": [
          1,
          9
         ],
         "xaxis": "x4",
         "y": [
          20,
          20
         ],
         "yaxis": "y4"
        },
        {
         "hovertemplate": "<b>Step %{x}</b><br>E-power: %{y:.2f}%<extra></extra>",
         "line": {
          "color": "#FF9F0A",
          "shape": "spline",
          "width": 2
         },
         "marker": {
          "color": "#FF9F0A",
          "line": {
           "color": "white",
           "width": 1
          },
          "opacity": 0.8,
          "size": 8
         },
         "mode": "lines+markers",
         "name": "E-power",
         "type": "scatter",
         "x": {
          "bdata": "AQIDBAUGBwgJ",
          "dtype": "i1"
         },
         "xaxis": "x5",
         "y": {
          "bdata": "AAAAAAAAAACGv7MUVMJqQDI8sXEQZndApLpIJ6owfUCFLGLflMF1QOKC69Can3VAwVJJ+Zloc0CW6lQl0EdyQNf0P0Bj0HBA",
          "dtype": "f8"
         },
         "yaxis": "y5"
        },
        {
         "hovertemplate": "<b>Step %{x}</b><br>p-value: %{y:.2f}%<extra></extra>",
         "line": {
          "color": "#BF5AF2",
          "shape": "spline",
          "width": 2
         },
         "marker": {
          "color": "#BF5AF2",
          "line": {
           "color": "white",
           "width": 1
          },
          "opacity": 0.8,
          "size": 8
         },
         "mode": "lines+markers",
         "name": "p-value",
         "type": "scatter",
         "x": {
          "bdata": "AQIDBAUGBwgJ",
          "dtype": "i1"
         },
         "xaxis": "x6",
         "y": {
          "bdata": "6xUW7w60CEBhagSEtR32P2IJj8I+tlU/CsmC/cnYqT5Sz4myECrHPt/o4Afr6Xk++V0qbvt3Yz66aDS3VJI9PqmLhIN+Oio+",
          "dtype": "f8"
         },
         "yaxis": "y6"
        },
        {
         "hoverinfo": "skip",
         "line": {
          "color": "#FF453A",
          "dash": "dash",
          "width": 2
         },
         "mode": "lines",
         "name": "Significance Level (α = 0.05)",
         "type": "scatter",
         "x": [
          1,
          9
         ],
         "xaxis": "x6",
         "y": [
          5,
          5
         ],
         "yaxis": "y6"
        },
        {
         "domain": {
          "x": [
           0.72,
           1
          ],
          "y": [
           0,
           0.16
          ]
         },
         "gauge": {
          "axis": {
           "range": [
            0,
            100
           ],
           "tickfont": {
            "size": 10
           },
           "ticksuffix": "%"
          },
          "bar": {
           "color": "#30D158"
          },
          "bgcolor": "#38383A",
          "bordercolor": "#98989D",
          "borderwidth": 1,
          "steps": [
           {
            "color": "rgba(255, 0, 0, 0.1)",
            "range": [
             0,
             50
            ]
           },
           {
            "color": "rgba(255, 165, 0, 0.1)",
            "range": [
             50,
             80
            ]
           },
           {
            "color": "rgba(0, 128, 0, 0.1)",
            "range": [
             80,
             100
            ]
           }
          ],
          "threshold": {
           "line": {
            "color": "#FF453A",
            "width": 4
           },
           "thickness": 0.75,
           "value": 100
          }
         },
         "mode": "gauge+number",
         "number": {
          "font": {
           "family": "SF Pro Display, -apple-system, BlinkMacSystemFont, Segoe UI, Roboto, Helvetica Neue, Arial, sans-serif",
           "size": 16
          },
          "suffix": "%",
          "valueformat": ".1f"
         },
         "title": {
          "font": {
           "family": "SF Pro Display, -apple-system, BlinkMacSystemFont, Segoe UI, Roboto, Helvetica Neue, Arial, sans-serif",
           "size": 14
          },
          "text": "Progress to Rejection"
         },
         "type": "indicator",
         "value": 100
        }
       ],
       "layout": {
        "annotations": [
         {
          "font": {
           "size": 16
          },
          "showarrow": false,
          "text": "E-value Process",
          "x": 0.31999999999999995,
          "xanchor": "center",
          "xref": "paper",
          "y": 0.7200000000000001,
          "yanchor": "bottom",
          "yref": "paper"
         },
         {
          "font": {
           "size": 16
          },
          "showarrow": false,
          "text": "Observation Distribution",
          "x": 0.86,
          "xanchor": "center",
          "xref": "paper",
          "y": 0.7200000000000001,
          "yanchor": "bottom",
          "yref": "paper"
         },
         {
          "font": {
           "size": 16
          },
          "showarrow": false,
          "text": "Cumulative E-values (E-Process)",
          "x": 0.31999999999999995,
          "xanchor": "center",
          "xref": "paper",
          "y": 0.44000000000000006,
          "yanchor": "bottom",
          "yref": "paper"
         },
         {
          "font": {
           "size": 16
          },
          "showarrow": false,
          "text": "E-power",
          "x": 0.13999999999999999,
          "xanchor": "center",
          "xref": "paper",
          "y": 0.16,
          "yanchor": "bottom",
          "yref": "paper"
         },
         {
          "font": {
           "size": 16
          },
          "showarrow": false,
          "text": "p-values",
          "x": 0.49999999999999994,
          "xanchor": "center",
          "xref": "paper",
          "y": 0.16,
          "yanchor": "bottom",
          "yref": "paper"
         },
         {
          "align": "left",
          "bgcolor": "rgba(0, 0, 0, 0.8)",
          "bordercolor": "#38383A",
          "borderpad": 10,
          "borderwidth": 1,
          "font": {
           "family": "SF Pro Display, -apple-system, BlinkMacSystemFont, Segoe UI, Roboto, Helvetica Neue, Arial, sans-serif",
           "size": 14
          },
          "height": 260,
          "opacity": 0.95,
          "showarrow": false,
          "text": "\n        <span style='font-size:22px; font-weight:bold;'>Summary</span><br>\n        <b>Status:</b> <span style='color:#30D158;\n                              font-weight:bold;'>\n                      Reject H<sub>0</sub></span><br>\n        <b>Total Steps:</b> 9<br>\n        <b>Total Observations:</b> 27<br>\n        <b>Cumulative E-value:</b> 3.275e+10<br>\n        <b>Latest E-value:</b> 2.255<br>\n        <b>Mean E-value:</b> 315.2<br>\n        <b>Max E-value:</b> 1720<br>\n        <b>Recent Trend:</b> ↓ (315.2)<br>\n        <b>Latest p-value:</b> 0.00%<br><b>Latest E-power:</b> 269.02%<br>\n        <b>Mean Observation:</b> 1.347<br>\n        <b>Std. Deviation:</b> 1.438<br>\n        ",
          "width": 280,
          "x": 0.01,
          "xref": "paper",
          "y": 1.02,
          "yref": "paper"
         },
         {
          "align": "right",
          "bgcolor": "rgba(0, 0, 0, 0.8)",
          "bordercolor": "#38383A",
          "borderpad": 10,
          "borderwidth": 1,
          "font": {
           "family": "SF Pro Display, -apple-system, BlinkMacSystemFont, Segoe UI, Roboto, Helvetica Neue, Arial, sans-serif",
           "size": 14
          },
          "height": 150,
          "opacity": 0.95,
          "showarrow": false,
          "text": "\n        <span style='font-size:20px; font-weight:bold;'>Test Progress</span><br>\n        <span style='font-size:14px; color:#30D158; font-weight:bold;'>\n            100.0%\n        </span><br>\n        <span style='font-size:14px;'>\n            Threshold: 20.0 (5.0%)\n        </span>\n        ",
          "width": 220,
          "x": 0.99,
          "xanchor": "right",
          "xref": "paper",
          "y": 0.97,
          "yanchor": "top",
          "yref": "paper"
         },
         {
          "align": "center",
          "font": {
           "color": "#FFFFFF",
           "size": 16
          },
          "showarrow": false,
          "text": "<b>Recent Trend</b>",
          "x": 0.83,
          "xref": "paper",
          "y": 0.22,
          "yref": "paper"
         },
         {
          "align": "center",
          "bgcolor": "rgba(40,40,45,0.7)",
          "bordercolor": "#38383A",
          "borderpad": 4,
          "borderwidth": 1,
          "font": {
           "color": "#FFFFFF",
           "size": 14
          },
          "showarrow": false,
          "text": "<b>All Mean:</b> 315.2<br><b>Recent Mean:</b> 315.2 ↓",
          "x": 0.83,
          "xref": "paper",
          "y": 0.15,
          "yref": "paper"
         }
        ],
        "font": {
         "color": "#FFFFFF",
         "family": "SF Pro Display, -apple-system, BlinkMacSystemFont, Segoe UI, Roboto, Helvetica Neue, Arial, sans-serif"
        },
        "height": 1200,
        "hoverlabel": {
         "bgcolor": "#2C2C2E",
         "font": {
          "family": "SF Pro Display, -apple-system, BlinkMacSystemFont, Segoe UI, Roboto, Helvetica Neue, Arial, sans-serif",
          "size": 12
         }
        },
        "hovermode": "closest",
        "legend": {
         "bgcolor": "rgba(0, 0, 0, 0.7)",
         "orientation": "h",
         "x": 1,
         "xanchor": "right",
         "y": 1.02,
         "yanchor": "bottom"
        },
        "paper_bgcolor": "#000000",
        "plot_bgcolor": "#1C1C1E",
        "showlegend": true,
        "template": {
         "data": {
          "bar": [
           {
            "error_x": {
             "color": "#2a3f5f"
            },
            "error_y": {
             "color": "#2a3f5f"
            },
            "marker": {
             "line": {
              "color": "white",
              "width": 0.5
             },
             "pattern": {
              "fillmode": "overlay",
              "size": 10,
              "solidity": 0.2
             }
            },
            "type": "bar"
           }
          ],
          "barpolar": [
           {
            "marker": {
             "line": {
              "color": "white",
              "width": 0.5
             },
             "pattern": {
              "fillmode": "overlay",
              "size": 10,
              "solidity": 0.2
             }
            },
            "type": "barpolar"
           }
          ],
          "carpet": [
           {
            "aaxis": {
             "endlinecolor": "#2a3f5f",
             "gridcolor": "#C8D4E3",
             "linecolor": "#C8D4E3",
             "minorgridcolor": "#C8D4E3",
             "startlinecolor": "#2a3f5f"
            },
            "baxis": {
             "endlinecolor": "#2a3f5f",
             "gridcolor": "#C8D4E3",
             "linecolor": "#C8D4E3",
             "minorgridcolor": "#C8D4E3",
             "startlinecolor": "#2a3f5f"
            },
            "type": "carpet"
           }
          ],
          "choropleth": [
           {
            "colorbar": {
             "outlinewidth": 0,
             "ticks": ""
            },
            "type": "choropleth"
           }
          ],
          "contour": [
           {
            "colorbar": {
             "outlinewidth": 0,
             "ticks": ""
            },
            "colorscale": [
             [
              0,
              "#0d0887"
             ],
             [
              0.1111111111111111,
              "#46039f"
             ],
             [
              0.2222222222222222,
              "#7201a8"
             ],
             [
              0.3333333333333333,
              "#9c179e"
             ],
             [
              0.4444444444444444,
              "#bd3786"
             ],
             [
              0.5555555555555556,
              "#d8576b"
             ],
             [
              0.6666666666666666,
              "#ed7953"
             ],
             [
              0.7777777777777778,
              "#fb9f3a"
             ],
             [
              0.8888888888888888,
              "#fdca26"
             ],
             [
              1,
              "#f0f921"
             ]
            ],
            "type": "contour"
           }
          ],
          "contourcarpet": [
           {
            "colorbar": {
             "outlinewidth": 0,
             "ticks": ""
            },
            "type": "contourcarpet"
           }
          ],
          "heatmap": [
           {
            "colorbar": {
             "outlinewidth": 0,
             "ticks": ""
            },
            "colorscale": [
             [
              0,
              "#0d0887"
             ],
             [
              0.1111111111111111,
              "#46039f"
             ],
             [
              0.2222222222222222,
              "#7201a8"
             ],
             [
              0.3333333333333333,
              "#9c179e"
             ],
             [
              0.4444444444444444,
              "#bd3786"
             ],
             [
              0.5555555555555556,
              "#d8576b"
             ],
             [
              0.6666666666666666,
              "#ed7953"
             ],
             [
              0.7777777777777778,
              "#fb9f3a"
             ],
             [
              0.8888888888888888,
              "#fdca26"
             ],
             [
              1,
              "#f0f921"
             ]
            ],
            "type": "heatmap"
           }
          ],
          "histogram": [
           {
            "marker": {
             "pattern": {
              "fillmode": "overlay",
              "size": 10,
              "solidity": 0.2
             }
            },
            "type": "histogram"
           }
          ],
          "histogram2d": [
           {
            "colorbar": {
             "outlinewidth": 0,
             "ticks": ""
            },
            "colorscale": [
             [
              0,
              "#0d0887"
             ],
             [
              0.1111111111111111,
              "#46039f"
             ],
             [
              0.2222222222222222,
              "#7201a8"
             ],
             [
              0.3333333333333333,
              "#9c179e"
             ],
             [
              0.4444444444444444,
              "#bd3786"
             ],
             [
              0.5555555555555556,
              "#d8576b"
             ],
             [
              0.6666666666666666,
              "#ed7953"
             ],
             [
              0.7777777777777778,
              "#fb9f3a"
             ],
             [
              0.8888888888888888,
              "#fdca26"
             ],
             [
              1,
              "#f0f921"
             ]
            ],
            "type": "histogram2d"
           }
          ],
          "histogram2dcontour": [
           {
            "colorbar": {
             "outlinewidth": 0,
             "ticks": ""
            },
            "colorscale": [
             [
              0,
              "#0d0887"
             ],
             [
              0.1111111111111111,
              "#46039f"
             ],
             [
              0.2222222222222222,
              "#7201a8"
             ],
             [
              0.3333333333333333,
              "#9c179e"
             ],
             [
              0.4444444444444444,
              "#bd3786"
             ],
             [
              0.5555555555555556,
              "#d8576b"
             ],
             [
              0.6666666666666666,
              "#ed7953"
             ],
             [
              0.7777777777777778,
              "#fb9f3a"
             ],
             [
              0.8888888888888888,
              "#fdca26"
             ],
             [
              1,
              "#f0f921"
             ]
            ],
            "type": "histogram2dcontour"
           }
          ],
          "mesh3d": [
           {
            "colorbar": {
             "outlinewidth": 0,
             "ticks": ""
            },
            "type": "mesh3d"
           }
          ],
          "parcoords": [
           {
            "line": {
             "colorbar": {
              "outlinewidth": 0,
              "ticks": ""
             }
            },
            "type": "parcoords"
           }
          ],
          "pie": [
           {
            "automargin": true,
            "type": "pie"
           }
          ],
          "scatter": [
           {
            "fillpattern": {
             "fillmode": "overlay",
             "size": 10,
             "solidity": 0.2
            },
            "type": "scatter"
           }
          ],
          "scatter3d": [
           {
            "line": {
             "colorbar": {
              "outlinewidth": 0,
              "ticks": ""
             }
            },
            "marker": {
             "colorbar": {
              "outlinewidth": 0,
              "ticks": ""
             }
            },
            "type": "scatter3d"
           }
          ],
          "scattercarpet": [
           {
            "marker": {
             "colorbar": {
              "outlinewidth": 0,
              "ticks": ""
             }
            },
            "type": "scattercarpet"
           }
          ],
          "scattergeo": [
           {
            "marker": {
             "colorbar": {
              "outlinewidth": 0,
              "ticks": ""
             }
            },
            "type": "scattergeo"
           }
          ],
          "scattergl": [
           {
            "marker": {
             "colorbar": {
              "outlinewidth": 0,
              "ticks": ""
             }
            },
            "type": "scattergl"
           }
          ],
          "scattermap": [
           {
            "marker": {
             "colorbar": {
              "outlinewidth": 0,
              "ticks": ""
             }
            },
            "type": "scattermap"
           }
          ],
          "scattermapbox": [
           {
            "marker": {
             "colorbar": {
              "outlinewidth": 0,
              "ticks": ""
             }
            },
            "type": "scattermapbox"
           }
          ],
          "scatterpolar": [
           {
            "marker": {
             "colorbar": {
              "outlinewidth": 0,
              "ticks": ""
             }
            },
            "type": "scatterpolar"
           }
          ],
          "scatterpolargl": [
           {
            "marker": {
             "colorbar": {
              "outlinewidth": 0,
              "ticks": ""
             }
            },
            "type": "scatterpolargl"
           }
          ],
          "scatterternary": [
           {
            "marker": {
             "colorbar": {
              "outlinewidth": 0,
              "ticks": ""
             }
            },
            "type": "scatterternary"
           }
          ],
          "surface": [
           {
            "colorbar": {
             "outlinewidth": 0,
             "ticks": ""
            },
            "colorscale": [
             [
              0,
              "#0d0887"
             ],
             [
              0.1111111111111111,
              "#46039f"
             ],
             [
              0.2222222222222222,
              "#7201a8"
             ],
             [
              0.3333333333333333,
              "#9c179e"
             ],
             [
              0.4444444444444444,
              "#bd3786"
             ],
             [
              0.5555555555555556,
              "#d8576b"
             ],
             [
              0.6666666666666666,
              "#ed7953"
             ],
             [
              0.7777777777777778,
              "#fb9f3a"
             ],
             [
              0.8888888888888888,
              "#fdca26"
             ],
             [
              1,
              "#f0f921"
             ]
            ],
            "type": "surface"
           }
          ],
          "table": [
           {
            "cells": {
             "fill": {
              "color": "#EBF0F8"
             },
             "line": {
              "color": "white"
             }
            },
            "header": {
             "fill": {
              "color": "#C8D4E3"
             },
             "line": {
              "color": "white"
             }
            },
            "type": "table"
           }
          ]
         },
         "layout": {
          "annotationdefaults": {
           "arrowcolor": "#2a3f5f",
           "arrowhead": 0,
           "arrowwidth": 1
          },
          "autotypenumbers": "strict",
          "coloraxis": {
           "colorbar": {
            "outlinewidth": 0,
            "ticks": ""
           }
          },
          "colorscale": {
           "diverging": [
            [
             0,
             "#8e0152"
            ],
            [
             0.1,
             "#c51b7d"
            ],
            [
             0.2,
             "#de77ae"
            ],
            [
             0.3,
             "#f1b6da"
            ],
            [
             0.4,
             "#fde0ef"
            ],
            [
             0.5,
             "#f7f7f7"
            ],
            [
             0.6,
             "#e6f5d0"
            ],
            [
             0.7,
             "#b8e186"
            ],
            [
             0.8,
             "#7fbc41"
            ],
            [
             0.9,
             "#4d9221"
            ],
            [
             1,
             "#276419"
            ]
           ],
           "sequential": [
            [
             0,
             "#0d0887"
            ],
            [
             0.1111111111111111,
             "#46039f"
            ],
            [
             0.2222222222222222,
             "#7201a8"
            ],
            [
             0.3333333333333333,
             "#9c179e"
            ],
            [
             0.4444444444444444,
             "#bd3786"
            ],
            [
             0.5555555555555556,
             "#d8576b"
            ],
            [
             0.6666666666666666,
             "#ed7953"
            ],
            [
             0.7777777777777778,
             "#fb9f3a"
            ],
            [
             0.8888888888888888,
             "#fdca26"
            ],
            [
             1,
             "#f0f921"
            ]
           ],
           "sequentialminus": [
            [
             0,
             "#0d0887"
            ],
            [
             0.1111111111111111,
             "#46039f"
            ],
            [
             0.2222222222222222,
             "#7201a8"
            ],
            [
             0.3333333333333333,
             "#9c179e"
            ],
            [
             0.4444444444444444,
             "#bd3786"
            ],
            [
             0.5555555555555556,
             "#d8576b"
            ],
            [
             0.6666666666666666,
             "#ed7953"
            ],
            [
             0.7777777777777778,
             "#fb9f3a"
            ],
            [
             0.8888888888888888,
             "#fdca26"
            ],
            [
             1,
             "#f0f921"
            ]
           ]
          },
          "colorway": [
           "#636efa",
           "#EF553B",
           "#00cc96",
           "#ab63fa",
           "#FFA15A",
           "#19d3f3",
           "#FF6692",
           "#B6E880",
           "#FF97FF",
           "#FECB52"
          ],
          "font": {
           "color": "#2a3f5f"
          },
          "geo": {
           "bgcolor": "white",
           "lakecolor": "white",
           "landcolor": "white",
           "showlakes": true,
           "showland": true,
           "subunitcolor": "#C8D4E3"
          },
          "hoverlabel": {
           "align": "left"
          },
          "hovermode": "closest",
          "mapbox": {
           "style": "light"
          },
          "paper_bgcolor": "white",
          "plot_bgcolor": "white",
          "polar": {
           "angularaxis": {
            "gridcolor": "#EBF0F8",
            "linecolor": "#EBF0F8",
            "ticks": ""
           },
           "bgcolor": "white",
           "radialaxis": {
            "gridcolor": "#EBF0F8",
            "linecolor": "#EBF0F8",
            "ticks": ""
           }
          },
          "scene": {
           "xaxis": {
            "backgroundcolor": "white",
            "gridcolor": "#DFE8F3",
            "gridwidth": 2,
            "linecolor": "#EBF0F8",
            "showbackground": true,
            "ticks": "",
            "zerolinecolor": "#EBF0F8"
           },
           "yaxis": {
            "backgroundcolor": "white",
            "gridcolor": "#DFE8F3",
            "gridwidth": 2,
            "linecolor": "#EBF0F8",
            "showbackground": true,
            "ticks": "",
            "zerolinecolor": "#EBF0F8"
           },
           "zaxis": {
            "backgroundcolor": "white",
            "gridcolor": "#DFE8F3",
            "gridwidth": 2,
            "linecolor": "#EBF0F8",
            "showbackground": true,
            "ticks": "",
            "zerolinecolor": "#EBF0F8"
           }
          },
          "shapedefaults": {
           "line": {
            "color": "#2a3f5f"
           }
          },
          "ternary": {
           "aaxis": {
            "gridcolor": "#DFE8F3",
            "linecolor": "#A2B1C6",
            "ticks": ""
           },
           "baxis": {
            "gridcolor": "#DFE8F3",
            "linecolor": "#A2B1C6",
            "ticks": ""
           },
           "bgcolor": "white",
           "caxis": {
            "gridcolor": "#DFE8F3",
            "linecolor": "#A2B1C6",
            "ticks": ""
           }
          },
          "title": {
           "x": 0.05
          },
          "xaxis": {
           "automargin": true,
           "gridcolor": "#EBF0F8",
           "linecolor": "#EBF0F8",
           "ticks": "",
           "title": {
            "standoff": 15
           },
           "zerolinecolor": "#EBF0F8",
           "zerolinewidth": 2
          },
          "yaxis": {
           "automargin": true,
           "gridcolor": "#EBF0F8",
           "linecolor": "#EBF0F8",
           "ticks": "",
           "title": {
            "standoff": 15
           },
           "zerolinecolor": "#EBF0F8",
           "zerolinewidth": 2
          }
         }
        },
        "title": {
         "font": {
          "color": "#FFFFFF",
          "family": "SF Pro Display, -apple-system, BlinkMacSystemFont, Segoe UI, Roboto, Helvetica Neue, Arial, sans-serif",
          "size": 28
         },
         "text": "Sequential Test Dashboard",
         "x": 0.5,
         "xanchor": "center",
         "y": 0.98,
         "yanchor": "top"
        },
        "width": 1200,
        "xaxis": {
         "anchor": "y",
         "domain": [
          0,
          1
         ],
         "gridcolor": "#38383A",
         "gridwidth": 1,
         "linecolor": "#38383A",
         "linewidth": 1,
         "mirror": true,
         "showgrid": true,
         "showline": true,
         "zeroline": false
        },
        "xaxis2": {
         "anchor": "y2",
         "domain": [
          0,
          0.6399999999999999
         ],
         "gridcolor": "#38383A",
         "gridwidth": 1,
         "linecolor": "#38383A",
         "linewidth": 1,
         "mirror": true,
         "showgrid": true,
         "showline": true,
         "zeroline": false
        },
        "xaxis3": {
         "anchor": "y3",
         "domain": [
          0.72,
          1
         ],
         "gridcolor": "#38383A",
         "gridwidth": 1,
         "linecolor": "#38383A",
         "linewidth": 1,
         "mirror": true,
         "showgrid": true,
         "showline": true,
         "zeroline": false
        },
        "xaxis4": {
         "anchor": "y4",
         "domain": [
          0,
          0.6399999999999999
         ],
         "gridcolor": "#38383A",
         "gridwidth": 1,
         "linecolor": "#38383A",
         "linewidth": 1,
         "mirror": true,
         "showgrid": true,
         "showline": true,
         "zeroline": false
        },
        "xaxis5": {
         "anchor": "y5",
         "domain": [
          0,
          0.27999999999999997
         ],
         "gridcolor": "#38383A",
         "gridwidth": 1,
         "linecolor": "#38383A",
         "linewidth": 1,
         "mirror": true,
         "showgrid": true,
         "showline": true,
         "zeroline": false
        },
        "xaxis6": {
         "anchor": "y6",
         "domain": [
          0.36,
          0.6399999999999999
         ],
         "gridcolor": "#38383A",
         "gridwidth": 1,
         "linecolor": "#38383A",
         "linewidth": 1,
         "mirror": true,
         "showgrid": true,
         "showline": true,
         "zeroline": false
        },
        "yaxis": {
         "anchor": "x",
         "domain": [
          0.84,
          1
         ],
         "gridcolor": "#38383A",
         "gridwidth": 1,
         "linecolor": "#38383A",
         "linewidth": 1,
         "mirror": true,
         "showgrid": true,
         "showline": true,
         "zeroline": false
        },
        "yaxis2": {
         "anchor": "x2",
         "domain": [
          0.56,
          0.7200000000000001
         ],
         "gridcolor": "#38383A",
         "gridwidth": 1,
         "linecolor": "#38383A",
         "linewidth": 1,
         "mirror": true,
         "showgrid": true,
         "showline": true,
         "title": {
          "text": "E-value"
         },
         "zeroline": false
        },
        "yaxis3": {
         "anchor": "x3",
         "domain": [
          0.28,
          0.7200000000000001
         ],
         "gridcolor": "#38383A",
         "gridwidth": 1,
         "linecolor": "#38383A",
         "linewidth": 1,
         "mirror": true,
         "showgrid": true,
         "showline": true,
         "title": {
          "text": "Density"
         },
         "zeroline": false
        },
        "yaxis4": {
         "anchor": "x4",
         "domain": [
          0.28,
          0.44000000000000006
         ],
         "gridcolor": "#38383A",
         "gridwidth": 1,
         "linecolor": "#38383A",
         "linewidth": 1,
         "mirror": true,
         "showgrid": true,
         "showline": true,
         "title": {
          "text": "Cumulative E-value"
         },
         "zeroline": false
        },
        "yaxis5": {
         "anchor": "x5",
         "domain": [
          0,
          0.16
         ],
         "gridcolor": "#38383A",
         "gridwidth": 1,
         "linecolor": "#38383A",
         "linewidth": 1,
         "mirror": true,
         "showgrid": true,
         "showline": true,
         "ticksuffix": "%",
         "title": {
          "text": "E-power (%)"
         },
         "zeroline": false
        },
        "yaxis6": {
         "anchor": "x6",
         "domain": [
          0,
          0.16
         ],
         "gridcolor": "#38383A",
         "gridwidth": 1,
         "linecolor": "#38383A",
         "linewidth": 1,
         "mirror": true,
         "range": [
          -5,
          100
         ],
         "showgrid": true,
         "showline": true,
         "ticksuffix": "%",
         "title": {
          "text": "p-value (%)"
         },
         "zeroline": false
        }
       }
      }
     },
     "metadata": {},
     "output_type": "display_data"
    }
   ],
   "source": [
    "fig3"
   ]
  },
  {
   "cell_type": "code",
   "execution_count": null,
   "metadata": {},
   "outputs": [],
   "source": []
  },
  {
   "cell_type": "code",
   "execution_count": null,
   "metadata": {},
   "outputs": [],
   "source": []
  },
  {
   "cell_type": "code",
   "execution_count": null,
   "metadata": {},
   "outputs": [],
   "source": []
  }
 ],
 "metadata": {
  "kernelspec": {
   "display_name": "geminicomp",
   "language": "python",
   "name": "python3"
  },
  "language_info": {
   "codemirror_mode": {
    "name": "ipython",
    "version": 3
   },
   "file_extension": ".py",
   "mimetype": "text/x-python",
   "name": "python",
   "nbconvert_exporter": "python",
   "pygments_lexer": "ipython3",
   "version": "3.11.11"
  }
 },
 "nbformat": 4,
 "nbformat_minor": 2
}
